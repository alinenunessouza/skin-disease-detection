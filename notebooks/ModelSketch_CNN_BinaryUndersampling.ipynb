{
  "cells": [
    {
      "cell_type": "markdown",
      "metadata": {
        "id": "JfG5sByKn5Qz"
      },
      "source": [
        "# Setup"
      ]
    },
    {
      "cell_type": "code",
      "execution_count": 4,
      "metadata": {
        "id": "0Fpg6PgBSfOY"
      },
      "outputs": [],
      "source": [
        "# manipulação de dataset\n",
        "import pandas as pd\n",
        "\n",
        "# pacote de álgebra linear, faz manipulações de vetores e etc\n",
        "import numpy as np\n",
        "\n",
        "# import pytorch as pyt\n",
        "from PIL import Image, ImageOps\n",
        "\n",
        "# functions for creating and removing a directory (folder), fetching its contents, changing and identifying the current directory, etc\n",
        "import os\n",
        "\n",
        "# used to return all file paths that match a specific pattern\n",
        "import glob\n",
        "\n",
        "# opencv-python, solve computer vision problems\n",
        "import cv2\n",
        "\n",
        "# functions to compare files and directories, with various optional time/correctness trade-offs\n",
        "import filecmp\n",
        "\n",
        "# split dataset between training and testing data\n",
        "from sklearn.model_selection import train_test_split\n",
        "\n",
        "# preprocessing and Normalization, includes scaling, centering, normalization, binarization methods.\n",
        "from sklearn import preprocessing\n",
        "\n",
        "import matplotlib.pyplot as plt\n",
        "\n",
        "import tensorflow as tf\n",
        "from tensorflow import keras\n",
        "from tensorflow.keras import backend as K\n",
        "from tensorflow.keras.layers import Dense, Activation,Dropout,Conv2D, MaxPooling2D,BatchNormalization, Flatten\n",
        "from tensorflow.keras.optimizers import Adam, Adamax\n",
        "from tensorflow.keras.metrics import categorical_crossentropy\n",
        "from tensorflow.keras import regularizers\n",
        "from tensorflow.keras.preprocessing.image import ImageDataGenerator\n",
        "from tensorflow.keras.models import Model, load_model, Sequential\n",
        "\n",
        "from google.colab.patches import cv2_imshow"
      ]
    },
    {
      "cell_type": "markdown",
      "metadata": {
        "id": "7PuxzetBoLSN"
      },
      "source": [
        "# Leitura do dataset não processado"
      ]
    },
    {
      "cell_type": "code",
      "execution_count": 5,
      "metadata": {
        "id": "W8mQgR5AH9PY"
      },
      "outputs": [],
      "source": [
        "groundTruthPath = 'root/GroundTruth.csv'"
      ]
    },
    {
      "cell_type": "code",
      "execution_count": 6,
      "metadata": {
        "colab": {
          "base_uri": "https://localhost:8080/",
          "height": 206
        },
        "id": "PzDRc4QMQOhl",
        "outputId": "8f5438fd-718c-4032-a3a5-d310937d96c6"
      },
      "outputs": [
        {
          "data": {
            "text/html": [
              "\n",
              "  <div id=\"df-5a55f652-11fa-4b40-945c-69329cdbde0a\">\n",
              "    <div class=\"colab-df-container\">\n",
              "      <div>\n",
              "<style scoped>\n",
              "    .dataframe tbody tr th:only-of-type {\n",
              "        vertical-align: middle;\n",
              "    }\n",
              "\n",
              "    .dataframe tbody tr th {\n",
              "        vertical-align: top;\n",
              "    }\n",
              "\n",
              "    .dataframe thead th {\n",
              "        text-align: right;\n",
              "    }\n",
              "</style>\n",
              "<table border=\"1\" class=\"dataframe\">\n",
              "  <thead>\n",
              "    <tr style=\"text-align: right;\">\n",
              "      <th></th>\n",
              "      <th>image</th>\n",
              "      <th>MEL</th>\n",
              "      <th>NV</th>\n",
              "      <th>BCC</th>\n",
              "      <th>AKIEC</th>\n",
              "      <th>BKL</th>\n",
              "      <th>DF</th>\n",
              "      <th>VASC</th>\n",
              "    </tr>\n",
              "  </thead>\n",
              "  <tbody>\n",
              "    <tr>\n",
              "      <th>0</th>\n",
              "      <td>ISIC_0024306</td>\n",
              "      <td>0.0</td>\n",
              "      <td>1.0</td>\n",
              "      <td>0.0</td>\n",
              "      <td>0.0</td>\n",
              "      <td>0.0</td>\n",
              "      <td>0.0</td>\n",
              "      <td>0.0</td>\n",
              "    </tr>\n",
              "    <tr>\n",
              "      <th>1</th>\n",
              "      <td>ISIC_0024307</td>\n",
              "      <td>0.0</td>\n",
              "      <td>1.0</td>\n",
              "      <td>0.0</td>\n",
              "      <td>0.0</td>\n",
              "      <td>0.0</td>\n",
              "      <td>0.0</td>\n",
              "      <td>0.0</td>\n",
              "    </tr>\n",
              "    <tr>\n",
              "      <th>2</th>\n",
              "      <td>ISIC_0024308</td>\n",
              "      <td>0.0</td>\n",
              "      <td>1.0</td>\n",
              "      <td>0.0</td>\n",
              "      <td>0.0</td>\n",
              "      <td>0.0</td>\n",
              "      <td>0.0</td>\n",
              "      <td>0.0</td>\n",
              "    </tr>\n",
              "    <tr>\n",
              "      <th>3</th>\n",
              "      <td>ISIC_0024309</td>\n",
              "      <td>0.0</td>\n",
              "      <td>1.0</td>\n",
              "      <td>0.0</td>\n",
              "      <td>0.0</td>\n",
              "      <td>0.0</td>\n",
              "      <td>0.0</td>\n",
              "      <td>0.0</td>\n",
              "    </tr>\n",
              "    <tr>\n",
              "      <th>4</th>\n",
              "      <td>ISIC_0024310</td>\n",
              "      <td>1.0</td>\n",
              "      <td>0.0</td>\n",
              "      <td>0.0</td>\n",
              "      <td>0.0</td>\n",
              "      <td>0.0</td>\n",
              "      <td>0.0</td>\n",
              "      <td>0.0</td>\n",
              "    </tr>\n",
              "  </tbody>\n",
              "</table>\n",
              "</div>\n",
              "      <button class=\"colab-df-convert\" onclick=\"convertToInteractive('df-5a55f652-11fa-4b40-945c-69329cdbde0a')\"\n",
              "              title=\"Convert this dataframe to an interactive table.\"\n",
              "              style=\"display:none;\">\n",
              "        \n",
              "  <svg xmlns=\"http://www.w3.org/2000/svg\" height=\"24px\"viewBox=\"0 0 24 24\"\n",
              "       width=\"24px\">\n",
              "    <path d=\"M0 0h24v24H0V0z\" fill=\"none\"/>\n",
              "    <path d=\"M18.56 5.44l.94 2.06.94-2.06 2.06-.94-2.06-.94-.94-2.06-.94 2.06-2.06.94zm-11 1L8.5 8.5l.94-2.06 2.06-.94-2.06-.94L8.5 2.5l-.94 2.06-2.06.94zm10 10l.94 2.06.94-2.06 2.06-.94-2.06-.94-.94-2.06-.94 2.06-2.06.94z\"/><path d=\"M17.41 7.96l-1.37-1.37c-.4-.4-.92-.59-1.43-.59-.52 0-1.04.2-1.43.59L10.3 9.45l-7.72 7.72c-.78.78-.78 2.05 0 2.83L4 21.41c.39.39.9.59 1.41.59.51 0 1.02-.2 1.41-.59l7.78-7.78 2.81-2.81c.8-.78.8-2.07 0-2.86zM5.41 20L4 18.59l7.72-7.72 1.47 1.35L5.41 20z\"/>\n",
              "  </svg>\n",
              "      </button>\n",
              "      \n",
              "  <style>\n",
              "    .colab-df-container {\n",
              "      display:flex;\n",
              "      flex-wrap:wrap;\n",
              "      gap: 12px;\n",
              "    }\n",
              "\n",
              "    .colab-df-convert {\n",
              "      background-color: #E8F0FE;\n",
              "      border: none;\n",
              "      border-radius: 50%;\n",
              "      cursor: pointer;\n",
              "      display: none;\n",
              "      fill: #1967D2;\n",
              "      height: 32px;\n",
              "      padding: 0 0 0 0;\n",
              "      width: 32px;\n",
              "    }\n",
              "\n",
              "    .colab-df-convert:hover {\n",
              "      background-color: #E2EBFA;\n",
              "      box-shadow: 0px 1px 2px rgba(60, 64, 67, 0.3), 0px 1px 3px 1px rgba(60, 64, 67, 0.15);\n",
              "      fill: #174EA6;\n",
              "    }\n",
              "\n",
              "    [theme=dark] .colab-df-convert {\n",
              "      background-color: #3B4455;\n",
              "      fill: #D2E3FC;\n",
              "    }\n",
              "\n",
              "    [theme=dark] .colab-df-convert:hover {\n",
              "      background-color: #434B5C;\n",
              "      box-shadow: 0px 1px 3px 1px rgba(0, 0, 0, 0.15);\n",
              "      filter: drop-shadow(0px 1px 2px rgba(0, 0, 0, 0.3));\n",
              "      fill: #FFFFFF;\n",
              "    }\n",
              "  </style>\n",
              "\n",
              "      <script>\n",
              "        const buttonEl =\n",
              "          document.querySelector('#df-5a55f652-11fa-4b40-945c-69329cdbde0a button.colab-df-convert');\n",
              "        buttonEl.style.display =\n",
              "          google.colab.kernel.accessAllowed ? 'block' : 'none';\n",
              "\n",
              "        async function convertToInteractive(key) {\n",
              "          const element = document.querySelector('#df-5a55f652-11fa-4b40-945c-69329cdbde0a');\n",
              "          const dataTable =\n",
              "            await google.colab.kernel.invokeFunction('convertToInteractive',\n",
              "                                                     [key], {});\n",
              "          if (!dataTable) return;\n",
              "\n",
              "          const docLinkHtml = 'Like what you see? Visit the ' +\n",
              "            '<a target=\"_blank\" href=https://colab.research.google.com/notebooks/data_table.ipynb>data table notebook</a>'\n",
              "            + ' to learn more about interactive tables.';\n",
              "          element.innerHTML = '';\n",
              "          dataTable['output_type'] = 'display_data';\n",
              "          await google.colab.output.renderOutput(dataTable, element);\n",
              "          const docLink = document.createElement('div');\n",
              "          docLink.innerHTML = docLinkHtml;\n",
              "          element.appendChild(docLink);\n",
              "        }\n",
              "      </script>\n",
              "    </div>\n",
              "  </div>\n",
              "  "
            ],
            "text/plain": [
              "          image  MEL   NV  BCC  AKIEC  BKL   DF  VASC\n",
              "0  ISIC_0024306  0.0  1.0  0.0    0.0  0.0  0.0   0.0\n",
              "1  ISIC_0024307  0.0  1.0  0.0    0.0  0.0  0.0   0.0\n",
              "2  ISIC_0024308  0.0  1.0  0.0    0.0  0.0  0.0   0.0\n",
              "3  ISIC_0024309  0.0  1.0  0.0    0.0  0.0  0.0   0.0\n",
              "4  ISIC_0024310  1.0  0.0  0.0    0.0  0.0  0.0   0.0"
            ]
          },
          "execution_count": 6,
          "metadata": {},
          "output_type": "execute_result"
        }
      ],
      "source": [
        "originalDataset = pd.read_csv(groundTruthPath)\n",
        "originalDataset.head()"
      ]
    },
    {
      "cell_type": "markdown",
      "metadata": {
        "id": "_SgKsL1mr2kg"
      },
      "source": [
        "**Transforma onehot encoder em labels qualitativos**\n",
        "\n",
        "Onehot encoder é uma técnica que transforma valores qualitativos em quantitativos através da geração de conjuntos R^(numero de classes)"
      ]
    },
    {
      "cell_type": "code",
      "execution_count": 7,
      "metadata": {
        "colab": {
          "base_uri": "https://localhost:8080/",
          "height": 206
        },
        "id": "2TQBTc4_ScyV",
        "outputId": "283bde9f-b185-4754-aded-81dde6f25a09"
      },
      "outputs": [
        {
          "data": {
            "text/html": [
              "\n",
              "  <div id=\"df-e2048f6c-fe0d-4583-b70a-f5957b2f08da\">\n",
              "    <div class=\"colab-df-container\">\n",
              "      <div>\n",
              "<style scoped>\n",
              "    .dataframe tbody tr th:only-of-type {\n",
              "        vertical-align: middle;\n",
              "    }\n",
              "\n",
              "    .dataframe tbody tr th {\n",
              "        vertical-align: top;\n",
              "    }\n",
              "\n",
              "    .dataframe thead th {\n",
              "        text-align: right;\n",
              "    }\n",
              "</style>\n",
              "<table border=\"1\" class=\"dataframe\">\n",
              "  <thead>\n",
              "    <tr style=\"text-align: right;\">\n",
              "      <th></th>\n",
              "      <th>image</th>\n",
              "      <th>label</th>\n",
              "    </tr>\n",
              "  </thead>\n",
              "  <tbody>\n",
              "    <tr>\n",
              "      <th>0</th>\n",
              "      <td>ISIC_0024306</td>\n",
              "      <td>NV</td>\n",
              "    </tr>\n",
              "    <tr>\n",
              "      <th>1</th>\n",
              "      <td>ISIC_0024307</td>\n",
              "      <td>NV</td>\n",
              "    </tr>\n",
              "    <tr>\n",
              "      <th>2</th>\n",
              "      <td>ISIC_0024308</td>\n",
              "      <td>NV</td>\n",
              "    </tr>\n",
              "    <tr>\n",
              "      <th>3</th>\n",
              "      <td>ISIC_0024309</td>\n",
              "      <td>NV</td>\n",
              "    </tr>\n",
              "    <tr>\n",
              "      <th>4</th>\n",
              "      <td>ISIC_0024310</td>\n",
              "      <td>MEL</td>\n",
              "    </tr>\n",
              "  </tbody>\n",
              "</table>\n",
              "</div>\n",
              "      <button class=\"colab-df-convert\" onclick=\"convertToInteractive('df-e2048f6c-fe0d-4583-b70a-f5957b2f08da')\"\n",
              "              title=\"Convert this dataframe to an interactive table.\"\n",
              "              style=\"display:none;\">\n",
              "        \n",
              "  <svg xmlns=\"http://www.w3.org/2000/svg\" height=\"24px\"viewBox=\"0 0 24 24\"\n",
              "       width=\"24px\">\n",
              "    <path d=\"M0 0h24v24H0V0z\" fill=\"none\"/>\n",
              "    <path d=\"M18.56 5.44l.94 2.06.94-2.06 2.06-.94-2.06-.94-.94-2.06-.94 2.06-2.06.94zm-11 1L8.5 8.5l.94-2.06 2.06-.94-2.06-.94L8.5 2.5l-.94 2.06-2.06.94zm10 10l.94 2.06.94-2.06 2.06-.94-2.06-.94-.94-2.06-.94 2.06-2.06.94z\"/><path d=\"M17.41 7.96l-1.37-1.37c-.4-.4-.92-.59-1.43-.59-.52 0-1.04.2-1.43.59L10.3 9.45l-7.72 7.72c-.78.78-.78 2.05 0 2.83L4 21.41c.39.39.9.59 1.41.59.51 0 1.02-.2 1.41-.59l7.78-7.78 2.81-2.81c.8-.78.8-2.07 0-2.86zM5.41 20L4 18.59l7.72-7.72 1.47 1.35L5.41 20z\"/>\n",
              "  </svg>\n",
              "      </button>\n",
              "      \n",
              "  <style>\n",
              "    .colab-df-container {\n",
              "      display:flex;\n",
              "      flex-wrap:wrap;\n",
              "      gap: 12px;\n",
              "    }\n",
              "\n",
              "    .colab-df-convert {\n",
              "      background-color: #E8F0FE;\n",
              "      border: none;\n",
              "      border-radius: 50%;\n",
              "      cursor: pointer;\n",
              "      display: none;\n",
              "      fill: #1967D2;\n",
              "      height: 32px;\n",
              "      padding: 0 0 0 0;\n",
              "      width: 32px;\n",
              "    }\n",
              "\n",
              "    .colab-df-convert:hover {\n",
              "      background-color: #E2EBFA;\n",
              "      box-shadow: 0px 1px 2px rgba(60, 64, 67, 0.3), 0px 1px 3px 1px rgba(60, 64, 67, 0.15);\n",
              "      fill: #174EA6;\n",
              "    }\n",
              "\n",
              "    [theme=dark] .colab-df-convert {\n",
              "      background-color: #3B4455;\n",
              "      fill: #D2E3FC;\n",
              "    }\n",
              "\n",
              "    [theme=dark] .colab-df-convert:hover {\n",
              "      background-color: #434B5C;\n",
              "      box-shadow: 0px 1px 3px 1px rgba(0, 0, 0, 0.15);\n",
              "      filter: drop-shadow(0px 1px 2px rgba(0, 0, 0, 0.3));\n",
              "      fill: #FFFFFF;\n",
              "    }\n",
              "  </style>\n",
              "\n",
              "      <script>\n",
              "        const buttonEl =\n",
              "          document.querySelector('#df-e2048f6c-fe0d-4583-b70a-f5957b2f08da button.colab-df-convert');\n",
              "        buttonEl.style.display =\n",
              "          google.colab.kernel.accessAllowed ? 'block' : 'none';\n",
              "\n",
              "        async function convertToInteractive(key) {\n",
              "          const element = document.querySelector('#df-e2048f6c-fe0d-4583-b70a-f5957b2f08da');\n",
              "          const dataTable =\n",
              "            await google.colab.kernel.invokeFunction('convertToInteractive',\n",
              "                                                     [key], {});\n",
              "          if (!dataTable) return;\n",
              "\n",
              "          const docLinkHtml = 'Like what you see? Visit the ' +\n",
              "            '<a target=\"_blank\" href=https://colab.research.google.com/notebooks/data_table.ipynb>data table notebook</a>'\n",
              "            + ' to learn more about interactive tables.';\n",
              "          element.innerHTML = '';\n",
              "          dataTable['output_type'] = 'display_data';\n",
              "          await google.colab.output.renderOutput(dataTable, element);\n",
              "          const docLink = document.createElement('div');\n",
              "          docLink.innerHTML = docLinkHtml;\n",
              "          element.appendChild(docLink);\n",
              "        }\n",
              "      </script>\n",
              "    </div>\n",
              "  </div>\n",
              "  "
            ],
            "text/plain": [
              "          image label\n",
              "0  ISIC_0024306    NV\n",
              "1  ISIC_0024307    NV\n",
              "2  ISIC_0024308    NV\n",
              "3  ISIC_0024309    NV\n",
              "4  ISIC_0024310   MEL"
            ]
          },
          "execution_count": 7,
          "metadata": {},
          "output_type": "execute_result"
        }
      ],
      "source": [
        "\n",
        "labels=['MEL', 'NV', 'BCC', 'AKIEC', 'BKL', 'DF', 'VASC']\n",
        "label_list=[]\n",
        "\n",
        "detailedDataset = originalDataset.copy()\n",
        "\n",
        "for i in range (len(originalDataset)):\n",
        "    row = list(originalDataset.iloc[i])\n",
        "    del row[0]\n",
        "    index = np.argmax(row)\n",
        "    label = labels[index]\n",
        "    label_list.append(label)\n",
        "    \n",
        "detailedDataset['label'] = label_list\n",
        "detailedDataset = detailedDataset.drop(labels, axis=1)\n",
        "detailedDataset.head()"
      ]
    },
    {
      "cell_type": "markdown",
      "metadata": {
        "id": "I1lUrYRPoyi7"
      },
      "source": [
        "# Amostragem dos dados do dataset com as 7 classes de lesões"
      ]
    },
    {
      "cell_type": "code",
      "execution_count": 8,
      "metadata": {
        "colab": {
          "base_uri": "https://localhost:8080/",
          "height": 426
        },
        "id": "9TqerpgCS7sC",
        "outputId": "8fdef7f5-dae4-4eb8-f529-eb1d7e6a682f"
      },
      "outputs": [
        {
          "name": "stdout",
          "output_type": "stream",
          "text": [
            "NV       6705\n",
            "MEL      1113\n",
            "BKL      1099\n",
            "BCC       514\n",
            "AKIEC     327\n",
            "VASC      142\n",
            "DF        115\n",
            "Name: label, dtype: int64\n"
          ]
        },
        {
          "data": {
            "image/png": "[encoded data removed]",
            "text/plain": [
              "<Figure size 432x288 with 1 Axes>"
            ]
          },
          "metadata": {
            "needs_background": "light"
          },
          "output_type": "display_data"
        }
      ],
      "source": [
        "detailedDataset['label'].value_counts().plot.bar(color=['r','g','b','c','y','m','k'])\n",
        "print(detailedDataset['label'].value_counts())"
      ]
    },
    {
      "cell_type": "markdown",
      "metadata": {
        "id": "CXuRp00uo-fm"
      },
      "source": [
        "# Divisão do dataset em meta-classes: benignos e malignos\n",
        "\n",
        "Estratégia inicial para verificar o resultado do modelo com balancea,emto por subamostragem (undersampling) entre as duas meta-classes\n"
      ]
    },
    {
      "cell_type": "code",
      "execution_count": 9,
      "metadata": {
        "colab": {
          "base_uri": "https://localhost:8080/",
          "height": 206
        },
        "id": "QKNCHI7ATGRG",
        "outputId": "e2a691de-bc1b-4ba3-9b1f-a8ae921d6817"
      },
      "outputs": [
        {
          "data": {
            "text/html": [
              "\n",
              "  <div id=\"df-d81a1fed-79d2-4515-8612-628e53a66a47\">\n",
              "    <div class=\"colab-df-container\">\n",
              "      <div>\n",
              "<style scoped>\n",
              "    .dataframe tbody tr th:only-of-type {\n",
              "        vertical-align: middle;\n",
              "    }\n",
              "\n",
              "    .dataframe tbody tr th {\n",
              "        vertical-align: top;\n",
              "    }\n",
              "\n",
              "    .dataframe thead th {\n",
              "        text-align: right;\n",
              "    }\n",
              "</style>\n",
              "<table border=\"1\" class=\"dataframe\">\n",
              "  <thead>\n",
              "    <tr style=\"text-align: right;\">\n",
              "      <th></th>\n",
              "      <th>image</th>\n",
              "      <th>type</th>\n",
              "    </tr>\n",
              "  </thead>\n",
              "  <tbody>\n",
              "    <tr>\n",
              "      <th>0</th>\n",
              "      <td>ISIC_0024306</td>\n",
              "      <td>Benigno</td>\n",
              "    </tr>\n",
              "    <tr>\n",
              "      <th>1</th>\n",
              "      <td>ISIC_0024307</td>\n",
              "      <td>Benigno</td>\n",
              "    </tr>\n",
              "    <tr>\n",
              "      <th>2</th>\n",
              "      <td>ISIC_0024308</td>\n",
              "      <td>Benigno</td>\n",
              "    </tr>\n",
              "    <tr>\n",
              "      <th>3</th>\n",
              "      <td>ISIC_0024309</td>\n",
              "      <td>Benigno</td>\n",
              "    </tr>\n",
              "    <tr>\n",
              "      <th>4</th>\n",
              "      <td>ISIC_0024310</td>\n",
              "      <td>Maligno</td>\n",
              "    </tr>\n",
              "  </tbody>\n",
              "</table>\n",
              "</div>\n",
              "      <button class=\"colab-df-convert\" onclick=\"convertToInteractive('df-d81a1fed-79d2-4515-8612-628e53a66a47')\"\n",
              "              title=\"Convert this dataframe to an interactive table.\"\n",
              "              style=\"display:none;\">\n",
              "        \n",
              "  <svg xmlns=\"http://www.w3.org/2000/svg\" height=\"24px\"viewBox=\"0 0 24 24\"\n",
              "       width=\"24px\">\n",
              "    <path d=\"M0 0h24v24H0V0z\" fill=\"none\"/>\n",
              "    <path d=\"M18.56 5.44l.94 2.06.94-2.06 2.06-.94-2.06-.94-.94-2.06-.94 2.06-2.06.94zm-11 1L8.5 8.5l.94-2.06 2.06-.94-2.06-.94L8.5 2.5l-.94 2.06-2.06.94zm10 10l.94 2.06.94-2.06 2.06-.94-2.06-.94-.94-2.06-.94 2.06-2.06.94z\"/><path d=\"M17.41 7.96l-1.37-1.37c-.4-.4-.92-.59-1.43-.59-.52 0-1.04.2-1.43.59L10.3 9.45l-7.72 7.72c-.78.78-.78 2.05 0 2.83L4 21.41c.39.39.9.59 1.41.59.51 0 1.02-.2 1.41-.59l7.78-7.78 2.81-2.81c.8-.78.8-2.07 0-2.86zM5.41 20L4 18.59l7.72-7.72 1.47 1.35L5.41 20z\"/>\n",
              "  </svg>\n",
              "      </button>\n",
              "      \n",
              "  <style>\n",
              "    .colab-df-container {\n",
              "      display:flex;\n",
              "      flex-wrap:wrap;\n",
              "      gap: 12px;\n",
              "    }\n",
              "\n",
              "    .colab-df-convert {\n",
              "      background-color: #E8F0FE;\n",
              "      border: none;\n",
              "      border-radius: 50%;\n",
              "      cursor: pointer;\n",
              "      display: none;\n",
              "      fill: #1967D2;\n",
              "      height: 32px;\n",
              "      padding: 0 0 0 0;\n",
              "      width: 32px;\n",
              "    }\n",
              "\n",
              "    .colab-df-convert:hover {\n",
              "      background-color: #E2EBFA;\n",
              "      box-shadow: 0px 1px 2px rgba(60, 64, 67, 0.3), 0px 1px 3px 1px rgba(60, 64, 67, 0.15);\n",
              "      fill: #174EA6;\n",
              "    }\n",
              "\n",
              "    [theme=dark] .colab-df-convert {\n",
              "      background-color: #3B4455;\n",
              "      fill: #D2E3FC;\n",
              "    }\n",
              "\n",
              "    [theme=dark] .colab-df-convert:hover {\n",
              "      background-color: #434B5C;\n",
              "      box-shadow: 0px 1px 3px 1px rgba(0, 0, 0, 0.15);\n",
              "      filter: drop-shadow(0px 1px 2px rgba(0, 0, 0, 0.3));\n",
              "      fill: #FFFFFF;\n",
              "    }\n",
              "  </style>\n",
              "\n",
              "      <script>\n",
              "        const buttonEl =\n",
              "          document.querySelector('#df-d81a1fed-79d2-4515-8612-628e53a66a47 button.colab-df-convert');\n",
              "        buttonEl.style.display =\n",
              "          google.colab.kernel.accessAllowed ? 'block' : 'none';\n",
              "\n",
              "        async function convertToInteractive(key) {\n",
              "          const element = document.querySelector('#df-d81a1fed-79d2-4515-8612-628e53a66a47');\n",
              "          const dataTable =\n",
              "            await google.colab.kernel.invokeFunction('convertToInteractive',\n",
              "                                                     [key], {});\n",
              "          if (!dataTable) return;\n",
              "\n",
              "          const docLinkHtml = 'Like what you see? Visit the ' +\n",
              "            '<a target=\"_blank\" href=https://colab.research.google.com/notebooks/data_table.ipynb>data table notebook</a>'\n",
              "            + ' to learn more about interactive tables.';\n",
              "          element.innerHTML = '';\n",
              "          dataTable['output_type'] = 'display_data';\n",
              "          await google.colab.output.renderOutput(dataTable, element);\n",
              "          const docLink = document.createElement('div');\n",
              "          docLink.innerHTML = docLinkHtml;\n",
              "          element.appendChild(docLink);\n",
              "        }\n",
              "      </script>\n",
              "    </div>\n",
              "  </div>\n",
              "  "
            ],
            "text/plain": [
              "          image     type\n",
              "0  ISIC_0024306  Benigno\n",
              "1  ISIC_0024307  Benigno\n",
              "2  ISIC_0024308  Benigno\n",
              "3  ISIC_0024309  Benigno\n",
              "4  ISIC_0024310  Maligno"
            ]
          },
          "execution_count": 9,
          "metadata": {},
          "output_type": "execute_result"
        }
      ],
      "source": [
        "benignLesions = ['NV', 'BKL', 'DF', 'VASC']\n",
        "malignLesions = ['MEL', 'BCC', 'AKIEC']\n",
        "benignCode = 'Benigno'\n",
        "malignCode = 'Maligno'\n",
        "\n",
        "simplifiedDataset = detailedDataset.copy()\n",
        "\n",
        "def classifyLesions(row):\n",
        "  if row['label'] in benignLesions:\n",
        "    return benignCode\n",
        "  return malignCode\n",
        "\n",
        "simplifiedDataset['type'] = simplifiedDataset.apply (lambda row: classifyLesions(row), axis=1)\n",
        "simplifiedDataset = simplifiedDataset.drop('label', axis=1)\n",
        "simplifiedDataset.head()"
      ]
    },
    {
      "cell_type": "markdown",
      "metadata": {
        "id": "Ez84bWRd205x"
      },
      "source": [
        "# Balanceamento\n",
        "\n",
        "A importância do balanceamento está na etapa de treinamento, entretando ele é realizado com a base inteira antes do treino e teste para não enviesar conjuntos de dados.\n",
        "\n",
        "Importante deixar cada classe com a quantidade de imagens mais parecida possível.\n",
        "\n",
        "Nessa abordagem inicial mais simples, queremos somente dividir o data set em duas classes e deixar a mesma quantidade de imagens para cada classe."
      ]
    },
    {
      "cell_type": "code",
      "execution_count": 10,
      "metadata": {
        "colab": {
          "base_uri": "https://localhost:8080/"
        },
        "id": "fBUi0bLk23Rm",
        "outputId": "0d6395b4-42de-4bc6-e7ba-cad1f11d43ab"
      },
      "outputs": [
        {
          "name": "stdout",
          "output_type": "stream",
          "text": [
            "original number of classes:  7\n"
          ]
        }
      ],
      "source": [
        "print('original number of classes: ', len(detailedDataset['label'].unique()))     "
      ]
    },
    {
      "cell_type": "code",
      "execution_count": 11,
      "metadata": {
        "colab": {
          "base_uri": "https://localhost:8080/",
          "height": 365
        },
        "id": "1aTahZvEiSoT",
        "outputId": "2a15dfa6-b817-4766-9a91-fd7653908e51"
      },
      "outputs": [
        {
          "name": "stdout",
          "output_type": "stream",
          "text": [
            "Benigno    8061\n",
            "Maligno    1954\n",
            "Name: type, dtype: int64\n",
            "\n"
          ]
        },
        {
          "data": {
            "image/png": "[encoded data removed]",
            "text/plain": [
              "<Figure size 432x288 with 1 Axes>"
            ]
          },
          "metadata": {
            "needs_background": "light"
          },
          "output_type": "display_data"
        }
      ],
      "source": [
        "simplifiedDataset['type'].value_counts().plot.bar(color=['g','r'])\n",
        "print(simplifiedDataset['type'].value_counts())\n",
        "print()"
      ]
    },
    {
      "cell_type": "code",
      "execution_count": 12,
      "metadata": {
        "colab": {
          "base_uri": "https://localhost:8080/"
        },
        "id": "rKTSF24Hkypx",
        "outputId": "a1508f00-f8a5-467d-b0a6-ff4a4a881fb6"
      },
      "outputs": [
        {
          "name": "stdout",
          "output_type": "stream",
          "text": [
            "              image     type\n",
            "0      ISIC_0024306  Benigno\n",
            "1      ISIC_0024307  Benigno\n",
            "2      ISIC_0024308  Benigno\n",
            "3      ISIC_0024309  Benigno\n",
            "4      ISIC_0024310  Maligno\n",
            "...             ...      ...\n",
            "10010  ISIC_0034316  Maligno\n",
            "10011  ISIC_0034317  Maligno\n",
            "10012  ISIC_0034318  Benigno\n",
            "10013  ISIC_0034319  Benigno\n",
            "10014  ISIC_0034320  Benigno\n",
            "\n",
            "[10015 rows x 2 columns]\n"
          ]
        }
      ],
      "source": [
        "df = simplifiedDataset;\n",
        "print(df)"
      ]
    },
    {
      "cell_type": "markdown",
      "metadata": {
        "id": "f-aJnx-SmC0N"
      },
      "source": [
        "dataset is highly out of balance limit maximum samples per class to 1954 (balanceamento por baixo) samples to help balance it"
      ]
    },
    {
      "cell_type": "code",
      "execution_count": 13,
      "metadata": {
        "colab": {
          "base_uri": "https://localhost:8080/"
        },
        "id": "o5c82d8QkBWq",
        "outputId": "30641e9b-d5b6-4767-c4da-89f700005965"
      },
      "outputs": [
        {
          "name": "stdout",
          "output_type": "stream",
          "text": [
            "30\n",
            "final number of classes:  2\n",
            "Benigno    15\n",
            "Maligno    15\n",
            "Name: type, dtype: int64\n"
          ]
        }
      ],
      "source": [
        "#size = 1954 # set number of samples for each class\n",
        "size= 1954 # set number of samples for each class\n",
        "samples = []\n",
        "\n",
        "group=df.groupby('type')\n",
        "\n",
        "for label in df['type'].unique():\n",
        "    Lgroup=group.get_group(label)\n",
        "    count=int(Lgroup['type'].value_counts())    \n",
        "    if count>=size:\n",
        "        sample=Lgroup.sample(size, axis=0)        \n",
        "    else:        \n",
        "        sample=Lgroup.sample(frac=1, axis=0)\n",
        "    samples.append(sample) \n",
        "\n",
        "balanced_df = pd.concat(samples, axis=0).reset_index(drop=True)\n",
        "\n",
        "print(len(balanced_df))\n",
        "print('final number of classes: ', len(balanced_df['type'].unique()))       \n",
        "print(balanced_df['type'].value_counts())  "
      ]
    },
    {
      "cell_type": "markdown",
      "metadata": {
        "id": "JKzxBUAfy5SA"
      },
      "source": [
        "# Aplicação de LabelEncoder(type)\n",
        "\n",
        "Etapa executada antes da divisão de conjuntos para evitar custo computacional ao ter que verificar se os dois conjuntos estão se refereindo a meta classe da mesma forma.\n",
        "\n",
        "Transformação de:\n",
        "> Benigno->0\n",
        "\n",
        "> Maligno-> 1\n",
        "\n",
        "https://scikit-learn.org/stable/modules/generated/sklearn.preprocessing.LabelEncoder.html"
      ]
    },
    {
      "cell_type": "code",
      "execution_count": 14,
      "metadata": {
        "colab": {
          "base_uri": "https://localhost:8080/",
          "height": 206
        },
        "id": "tweWMk4U1GnY",
        "outputId": "be091df7-35aa-4796-9b85-23e48f386af2"
      },
      "outputs": [
        {
          "data": {
            "text/html": [
              "\n",
              "  <div id=\"df-547e3f68-45b4-470f-a2a9-677d9942be3d\">\n",
              "    <div class=\"colab-df-container\">\n",
              "      <div>\n",
              "<style scoped>\n",
              "    .dataframe tbody tr th:only-of-type {\n",
              "        vertical-align: middle;\n",
              "    }\n",
              "\n",
              "    .dataframe tbody tr th {\n",
              "        vertical-align: top;\n",
              "    }\n",
              "\n",
              "    .dataframe thead th {\n",
              "        text-align: right;\n",
              "    }\n",
              "</style>\n",
              "<table border=\"1\" class=\"dataframe\">\n",
              "  <thead>\n",
              "    <tr style=\"text-align: right;\">\n",
              "      <th></th>\n",
              "      <th>image</th>\n",
              "      <th>type</th>\n",
              "    </tr>\n",
              "  </thead>\n",
              "  <tbody>\n",
              "    <tr>\n",
              "      <th>0</th>\n",
              "      <td>ISIC_0030071</td>\n",
              "      <td>Benigno</td>\n",
              "    </tr>\n",
              "    <tr>\n",
              "      <th>1</th>\n",
              "      <td>ISIC_0031629</td>\n",
              "      <td>Benigno</td>\n",
              "    </tr>\n",
              "    <tr>\n",
              "      <th>2</th>\n",
              "      <td>ISIC_0032931</td>\n",
              "      <td>Benigno</td>\n",
              "    </tr>\n",
              "    <tr>\n",
              "      <th>3</th>\n",
              "      <td>ISIC_0029983</td>\n",
              "      <td>Benigno</td>\n",
              "    </tr>\n",
              "    <tr>\n",
              "      <th>4</th>\n",
              "      <td>ISIC_0033858</td>\n",
              "      <td>Benigno</td>\n",
              "    </tr>\n",
              "  </tbody>\n",
              "</table>\n",
              "</div>\n",
              "      <button class=\"colab-df-convert\" onclick=\"convertToInteractive('df-547e3f68-45b4-470f-a2a9-677d9942be3d')\"\n",
              "              title=\"Convert this dataframe to an interactive table.\"\n",
              "              style=\"display:none;\">\n",
              "        \n",
              "  <svg xmlns=\"http://www.w3.org/2000/svg\" height=\"24px\"viewBox=\"0 0 24 24\"\n",
              "       width=\"24px\">\n",
              "    <path d=\"M0 0h24v24H0V0z\" fill=\"none\"/>\n",
              "    <path d=\"M18.56 5.44l.94 2.06.94-2.06 2.06-.94-2.06-.94-.94-2.06-.94 2.06-2.06.94zm-11 1L8.5 8.5l.94-2.06 2.06-.94-2.06-.94L8.5 2.5l-.94 2.06-2.06.94zm10 10l.94 2.06.94-2.06 2.06-.94-2.06-.94-.94-2.06-.94 2.06-2.06.94z\"/><path d=\"M17.41 7.96l-1.37-1.37c-.4-.4-.92-.59-1.43-.59-.52 0-1.04.2-1.43.59L10.3 9.45l-7.72 7.72c-.78.78-.78 2.05 0 2.83L4 21.41c.39.39.9.59 1.41.59.51 0 1.02-.2 1.41-.59l7.78-7.78 2.81-2.81c.8-.78.8-2.07 0-2.86zM5.41 20L4 18.59l7.72-7.72 1.47 1.35L5.41 20z\"/>\n",
              "  </svg>\n",
              "      </button>\n",
              "      \n",
              "  <style>\n",
              "    .colab-df-container {\n",
              "      display:flex;\n",
              "      flex-wrap:wrap;\n",
              "      gap: 12px;\n",
              "    }\n",
              "\n",
              "    .colab-df-convert {\n",
              "      background-color: #E8F0FE;\n",
              "      border: none;\n",
              "      border-radius: 50%;\n",
              "      cursor: pointer;\n",
              "      display: none;\n",
              "      fill: #1967D2;\n",
              "      height: 32px;\n",
              "      padding: 0 0 0 0;\n",
              "      width: 32px;\n",
              "    }\n",
              "\n",
              "    .colab-df-convert:hover {\n",
              "      background-color: #E2EBFA;\n",
              "      box-shadow: 0px 1px 2px rgba(60, 64, 67, 0.3), 0px 1px 3px 1px rgba(60, 64, 67, 0.15);\n",
              "      fill: #174EA6;\n",
              "    }\n",
              "\n",
              "    [theme=dark] .colab-df-convert {\n",
              "      background-color: #3B4455;\n",
              "      fill: #D2E3FC;\n",
              "    }\n",
              "\n",
              "    [theme=dark] .colab-df-convert:hover {\n",
              "      background-color: #434B5C;\n",
              "      box-shadow: 0px 1px 3px 1px rgba(0, 0, 0, 0.15);\n",
              "      filter: drop-shadow(0px 1px 2px rgba(0, 0, 0, 0.3));\n",
              "      fill: #FFFFFF;\n",
              "    }\n",
              "  </style>\n",
              "\n",
              "      <script>\n",
              "        const buttonEl =\n",
              "          document.querySelector('#df-547e3f68-45b4-470f-a2a9-677d9942be3d button.colab-df-convert');\n",
              "        buttonEl.style.display =\n",
              "          google.colab.kernel.accessAllowed ? 'block' : 'none';\n",
              "\n",
              "        async function convertToInteractive(key) {\n",
              "          const element = document.querySelector('#df-547e3f68-45b4-470f-a2a9-677d9942be3d');\n",
              "          const dataTable =\n",
              "            await google.colab.kernel.invokeFunction('convertToInteractive',\n",
              "                                                     [key], {});\n",
              "          if (!dataTable) return;\n",
              "\n",
              "          const docLinkHtml = 'Like what you see? Visit the ' +\n",
              "            '<a target=\"_blank\" href=https://colab.research.google.com/notebooks/data_table.ipynb>data table notebook</a>'\n",
              "            + ' to learn more about interactive tables.';\n",
              "          element.innerHTML = '';\n",
              "          dataTable['output_type'] = 'display_data';\n",
              "          await google.colab.output.renderOutput(dataTable, element);\n",
              "          const docLink = document.createElement('div');\n",
              "          docLink.innerHTML = docLinkHtml;\n",
              "          element.appendChild(docLink);\n",
              "        }\n",
              "      </script>\n",
              "    </div>\n",
              "  </div>\n",
              "  "
            ],
            "text/plain": [
              "          image     type\n",
              "0  ISIC_0030071  Benigno\n",
              "1  ISIC_0031629  Benigno\n",
              "2  ISIC_0032931  Benigno\n",
              "3  ISIC_0029983  Benigno\n",
              "4  ISIC_0033858  Benigno"
            ]
          },
          "execution_count": 14,
          "metadata": {},
          "output_type": "execute_result"
        }
      ],
      "source": [
        "balanced_df.head()"
      ]
    },
    {
      "cell_type": "code",
      "execution_count": 15,
      "metadata": {
        "colab": {
          "base_uri": "https://localhost:8080/",
          "height": 206
        },
        "id": "KilYK2FS06mU",
        "outputId": "2c35dd81-b345-48ad-987a-0d66b9180f99"
      },
      "outputs": [
        {
          "data": {
            "text/html": [
              "\n",
              "  <div id=\"df-e643e04c-e286-427d-8b6d-c46cc4880423\">\n",
              "    <div class=\"colab-df-container\">\n",
              "      <div>\n",
              "<style scoped>\n",
              "    .dataframe tbody tr th:only-of-type {\n",
              "        vertical-align: middle;\n",
              "    }\n",
              "\n",
              "    .dataframe tbody tr th {\n",
              "        vertical-align: top;\n",
              "    }\n",
              "\n",
              "    .dataframe thead th {\n",
              "        text-align: right;\n",
              "    }\n",
              "</style>\n",
              "<table border=\"1\" class=\"dataframe\">\n",
              "  <thead>\n",
              "    <tr style=\"text-align: right;\">\n",
              "      <th></th>\n",
              "      <th>image</th>\n",
              "      <th>type</th>\n",
              "    </tr>\n",
              "  </thead>\n",
              "  <tbody>\n",
              "    <tr>\n",
              "      <th>0</th>\n",
              "      <td>ISIC_0030071</td>\n",
              "      <td>0</td>\n",
              "    </tr>\n",
              "    <tr>\n",
              "      <th>1</th>\n",
              "      <td>ISIC_0031629</td>\n",
              "      <td>0</td>\n",
              "    </tr>\n",
              "    <tr>\n",
              "      <th>2</th>\n",
              "      <td>ISIC_0032931</td>\n",
              "      <td>0</td>\n",
              "    </tr>\n",
              "    <tr>\n",
              "      <th>3</th>\n",
              "      <td>ISIC_0029983</td>\n",
              "      <td>0</td>\n",
              "    </tr>\n",
              "    <tr>\n",
              "      <th>4</th>\n",
              "      <td>ISIC_0033858</td>\n",
              "      <td>0</td>\n",
              "    </tr>\n",
              "  </tbody>\n",
              "</table>\n",
              "</div>\n",
              "      <button class=\"colab-df-convert\" onclick=\"convertToInteractive('df-e643e04c-e286-427d-8b6d-c46cc4880423')\"\n",
              "              title=\"Convert this dataframe to an interactive table.\"\n",
              "              style=\"display:none;\">\n",
              "        \n",
              "  <svg xmlns=\"http://www.w3.org/2000/svg\" height=\"24px\"viewBox=\"0 0 24 24\"\n",
              "       width=\"24px\">\n",
              "    <path d=\"M0 0h24v24H0V0z\" fill=\"none\"/>\n",
              "    <path d=\"M18.56 5.44l.94 2.06.94-2.06 2.06-.94-2.06-.94-.94-2.06-.94 2.06-2.06.94zm-11 1L8.5 8.5l.94-2.06 2.06-.94-2.06-.94L8.5 2.5l-.94 2.06-2.06.94zm10 10l.94 2.06.94-2.06 2.06-.94-2.06-.94-.94-2.06-.94 2.06-2.06.94z\"/><path d=\"M17.41 7.96l-1.37-1.37c-.4-.4-.92-.59-1.43-.59-.52 0-1.04.2-1.43.59L10.3 9.45l-7.72 7.72c-.78.78-.78 2.05 0 2.83L4 21.41c.39.39.9.59 1.41.59.51 0 1.02-.2 1.41-.59l7.78-7.78 2.81-2.81c.8-.78.8-2.07 0-2.86zM5.41 20L4 18.59l7.72-7.72 1.47 1.35L5.41 20z\"/>\n",
              "  </svg>\n",
              "      </button>\n",
              "      \n",
              "  <style>\n",
              "    .colab-df-container {\n",
              "      display:flex;\n",
              "      flex-wrap:wrap;\n",
              "      gap: 12px;\n",
              "    }\n",
              "\n",
              "    .colab-df-convert {\n",
              "      background-color: #E8F0FE;\n",
              "      border: none;\n",
              "      border-radius: 50%;\n",
              "      cursor: pointer;\n",
              "      display: none;\n",
              "      fill: #1967D2;\n",
              "      height: 32px;\n",
              "      padding: 0 0 0 0;\n",
              "      width: 32px;\n",
              "    }\n",
              "\n",
              "    .colab-df-convert:hover {\n",
              "      background-color: #E2EBFA;\n",
              "      box-shadow: 0px 1px 2px rgba(60, 64, 67, 0.3), 0px 1px 3px 1px rgba(60, 64, 67, 0.15);\n",
              "      fill: #174EA6;\n",
              "    }\n",
              "\n",
              "    [theme=dark] .colab-df-convert {\n",
              "      background-color: #3B4455;\n",
              "      fill: #D2E3FC;\n",
              "    }\n",
              "\n",
              "    [theme=dark] .colab-df-convert:hover {\n",
              "      background-color: #434B5C;\n",
              "      box-shadow: 0px 1px 3px 1px rgba(0, 0, 0, 0.15);\n",
              "      filter: drop-shadow(0px 1px 2px rgba(0, 0, 0, 0.3));\n",
              "      fill: #FFFFFF;\n",
              "    }\n",
              "  </style>\n",
              "\n",
              "      <script>\n",
              "        const buttonEl =\n",
              "          document.querySelector('#df-e643e04c-e286-427d-8b6d-c46cc4880423 button.colab-df-convert');\n",
              "        buttonEl.style.display =\n",
              "          google.colab.kernel.accessAllowed ? 'block' : 'none';\n",
              "\n",
              "        async function convertToInteractive(key) {\n",
              "          const element = document.querySelector('#df-e643e04c-e286-427d-8b6d-c46cc4880423');\n",
              "          const dataTable =\n",
              "            await google.colab.kernel.invokeFunction('convertToInteractive',\n",
              "                                                     [key], {});\n",
              "          if (!dataTable) return;\n",
              "\n",
              "          const docLinkHtml = 'Like what you see? Visit the ' +\n",
              "            '<a target=\"_blank\" href=https://colab.research.google.com/notebooks/data_table.ipynb>data table notebook</a>'\n",
              "            + ' to learn more about interactive tables.';\n",
              "          element.innerHTML = '';\n",
              "          dataTable['output_type'] = 'display_data';\n",
              "          await google.colab.output.renderOutput(dataTable, element);\n",
              "          const docLink = document.createElement('div');\n",
              "          docLink.innerHTML = docLinkHtml;\n",
              "          element.appendChild(docLink);\n",
              "        }\n",
              "      </script>\n",
              "    </div>\n",
              "  </div>\n",
              "  "
            ],
            "text/plain": [
              "          image  type\n",
              "0  ISIC_0030071     0\n",
              "1  ISIC_0031629     0\n",
              "2  ISIC_0032931     0\n",
              "3  ISIC_0029983     0\n",
              "4  ISIC_0033858     0"
            ]
          },
          "execution_count": 15,
          "metadata": {},
          "output_type": "execute_result"
        }
      ],
      "source": [
        "le = preprocessing.LabelEncoder()\n",
        "balanced_df['type']=le.fit_transform(balanced_df['type'])\n",
        "balanced_df.head()"
      ]
    },
    {
      "cell_type": "markdown",
      "metadata": {
        "id": "WD8UoEWLDp2p"
      },
      "source": [
        "# Train Test Split\n",
        "\n",
        "Essa divisão do dataset está sendo feita após a etapa de balanceamento para prevenir bias (viéses) no treinamento que venham a resultar em um modelo com tendêncidas não generalizadas.\n",
        "O objetivo do modelo é ser o mais geral possível\n",
        "\n",
        "Teste será feito com 20% do dataset já balanceado\n",
        "Treinamento será feito com 80% do dataset já balanceado"
      ]
    },
    {
      "cell_type": "code",
      "execution_count": 16,
      "metadata": {
        "id": "HukTVxrUDofY"
      },
      "outputs": [],
      "source": [
        "test_size = .20 # set this to the percent of the data you want to use for validation\n",
        "train_size = .80 # set this to the percentof the data you want to use for training\n",
        "\n",
        "split_df = balanced_df.copy()\n",
        "train_df, test_df = train_test_split(split_df, test_size = test_size, train_size = train_size, random_state=42, shuffle=True)"
      ]
    },
    {
      "cell_type": "code",
      "execution_count": 17,
      "metadata": {
        "colab": {
          "base_uri": "https://localhost:8080/",
          "height": 223
        },
        "id": "7J48Av3wFkW9",
        "outputId": "ab639207-551f-4cbd-cc27-53d418fe39b7"
      },
      "outputs": [
        {
          "name": "stdout",
          "output_type": "stream",
          "text": [
            "6\n"
          ]
        },
        {
          "data": {
            "text/html": [
              "\n",
              "  <div id=\"df-b572c2d6-2b9a-4de8-9916-b744f80af53d\">\n",
              "    <div class=\"colab-df-container\">\n",
              "      <div>\n",
              "<style scoped>\n",
              "    .dataframe tbody tr th:only-of-type {\n",
              "        vertical-align: middle;\n",
              "    }\n",
              "\n",
              "    .dataframe tbody tr th {\n",
              "        vertical-align: top;\n",
              "    }\n",
              "\n",
              "    .dataframe thead th {\n",
              "        text-align: right;\n",
              "    }\n",
              "</style>\n",
              "<table border=\"1\" class=\"dataframe\">\n",
              "  <thead>\n",
              "    <tr style=\"text-align: right;\">\n",
              "      <th></th>\n",
              "      <th>image</th>\n",
              "      <th>type</th>\n",
              "    </tr>\n",
              "  </thead>\n",
              "  <tbody>\n",
              "    <tr>\n",
              "      <th>27</th>\n",
              "      <td>ISIC_0028508</td>\n",
              "      <td>1</td>\n",
              "    </tr>\n",
              "    <tr>\n",
              "      <th>15</th>\n",
              "      <td>ISIC_0024875</td>\n",
              "      <td>1</td>\n",
              "    </tr>\n",
              "    <tr>\n",
              "      <th>23</th>\n",
              "      <td>ISIC_0032019</td>\n",
              "      <td>1</td>\n",
              "    </tr>\n",
              "    <tr>\n",
              "      <th>17</th>\n",
              "      <td>ISIC_0024517</td>\n",
              "      <td>1</td>\n",
              "    </tr>\n",
              "    <tr>\n",
              "      <th>8</th>\n",
              "      <td>ISIC_0025494</td>\n",
              "      <td>0</td>\n",
              "    </tr>\n",
              "  </tbody>\n",
              "</table>\n",
              "</div>\n",
              "      <button class=\"colab-df-convert\" onclick=\"convertToInteractive('df-b572c2d6-2b9a-4de8-9916-b744f80af53d')\"\n",
              "              title=\"Convert this dataframe to an interactive table.\"\n",
              "              style=\"display:none;\">\n",
              "        \n",
              "  <svg xmlns=\"http://www.w3.org/2000/svg\" height=\"24px\"viewBox=\"0 0 24 24\"\n",
              "       width=\"24px\">\n",
              "    <path d=\"M0 0h24v24H0V0z\" fill=\"none\"/>\n",
              "    <path d=\"M18.56 5.44l.94 2.06.94-2.06 2.06-.94-2.06-.94-.94-2.06-.94 2.06-2.06.94zm-11 1L8.5 8.5l.94-2.06 2.06-.94-2.06-.94L8.5 2.5l-.94 2.06-2.06.94zm10 10l.94 2.06.94-2.06 2.06-.94-2.06-.94-.94-2.06-.94 2.06-2.06.94z\"/><path d=\"M17.41 7.96l-1.37-1.37c-.4-.4-.92-.59-1.43-.59-.52 0-1.04.2-1.43.59L10.3 9.45l-7.72 7.72c-.78.78-.78 2.05 0 2.83L4 21.41c.39.39.9.59 1.41.59.51 0 1.02-.2 1.41-.59l7.78-7.78 2.81-2.81c.8-.78.8-2.07 0-2.86zM5.41 20L4 18.59l7.72-7.72 1.47 1.35L5.41 20z\"/>\n",
              "  </svg>\n",
              "      </button>\n",
              "      \n",
              "  <style>\n",
              "    .colab-df-container {\n",
              "      display:flex;\n",
              "      flex-wrap:wrap;\n",
              "      gap: 12px;\n",
              "    }\n",
              "\n",
              "    .colab-df-convert {\n",
              "      background-color: #E8F0FE;\n",
              "      border: none;\n",
              "      border-radius: 50%;\n",
              "      cursor: pointer;\n",
              "      display: none;\n",
              "      fill: #1967D2;\n",
              "      height: 32px;\n",
              "      padding: 0 0 0 0;\n",
              "      width: 32px;\n",
              "    }\n",
              "\n",
              "    .colab-df-convert:hover {\n",
              "      background-color: #E2EBFA;\n",
              "      box-shadow: 0px 1px 2px rgba(60, 64, 67, 0.3), 0px 1px 3px 1px rgba(60, 64, 67, 0.15);\n",
              "      fill: #174EA6;\n",
              "    }\n",
              "\n",
              "    [theme=dark] .colab-df-convert {\n",
              "      background-color: #3B4455;\n",
              "      fill: #D2E3FC;\n",
              "    }\n",
              "\n",
              "    [theme=dark] .colab-df-convert:hover {\n",
              "      background-color: #434B5C;\n",
              "      box-shadow: 0px 1px 3px 1px rgba(0, 0, 0, 0.15);\n",
              "      filter: drop-shadow(0px 1px 2px rgba(0, 0, 0, 0.3));\n",
              "      fill: #FFFFFF;\n",
              "    }\n",
              "  </style>\n",
              "\n",
              "      <script>\n",
              "        const buttonEl =\n",
              "          document.querySelector('#df-b572c2d6-2b9a-4de8-9916-b744f80af53d button.colab-df-convert');\n",
              "        buttonEl.style.display =\n",
              "          google.colab.kernel.accessAllowed ? 'block' : 'none';\n",
              "\n",
              "        async function convertToInteractive(key) {\n",
              "          const element = document.querySelector('#df-b572c2d6-2b9a-4de8-9916-b744f80af53d');\n",
              "          const dataTable =\n",
              "            await google.colab.kernel.invokeFunction('convertToInteractive',\n",
              "                                                     [key], {});\n",
              "          if (!dataTable) return;\n",
              "\n",
              "          const docLinkHtml = 'Like what you see? Visit the ' +\n",
              "            '<a target=\"_blank\" href=https://colab.research.google.com/notebooks/data_table.ipynb>data table notebook</a>'\n",
              "            + ' to learn more about interactive tables.';\n",
              "          element.innerHTML = '';\n",
              "          dataTable['output_type'] = 'display_data';\n",
              "          await google.colab.output.renderOutput(dataTable, element);\n",
              "          const docLink = document.createElement('div');\n",
              "          docLink.innerHTML = docLinkHtml;\n",
              "          element.appendChild(docLink);\n",
              "        }\n",
              "      </script>\n",
              "    </div>\n",
              "  </div>\n",
              "  "
            ],
            "text/plain": [
              "           image  type\n",
              "27  ISIC_0028508     1\n",
              "15  ISIC_0024875     1\n",
              "23  ISIC_0032019     1\n",
              "17  ISIC_0024517     1\n",
              "8   ISIC_0025494     0"
            ]
          },
          "execution_count": 17,
          "metadata": {},
          "output_type": "execute_result"
        }
      ],
      "source": [
        "print(len(test_df))\n",
        "test_df.head()"
      ]
    },
    {
      "cell_type": "code",
      "execution_count": 18,
      "metadata": {
        "colab": {
          "base_uri": "https://localhost:8080/",
          "height": 223
        },
        "id": "V1YA1SFZxMDF",
        "outputId": "b3c00b91-9705-48ad-8224-252719359441"
      },
      "outputs": [
        {
          "name": "stdout",
          "output_type": "stream",
          "text": [
            "24\n"
          ]
        },
        {
          "data": {
            "text/html": [
              "\n",
              "  <div id=\"df-89782029-4109-4972-9b41-0ab44e2b3fe1\">\n",
              "    <div class=\"colab-df-container\">\n",
              "      <div>\n",
              "<style scoped>\n",
              "    .dataframe tbody tr th:only-of-type {\n",
              "        vertical-align: middle;\n",
              "    }\n",
              "\n",
              "    .dataframe tbody tr th {\n",
              "        vertical-align: top;\n",
              "    }\n",
              "\n",
              "    .dataframe thead th {\n",
              "        text-align: right;\n",
              "    }\n",
              "</style>\n",
              "<table border=\"1\" class=\"dataframe\">\n",
              "  <thead>\n",
              "    <tr style=\"text-align: right;\">\n",
              "      <th></th>\n",
              "      <th>image</th>\n",
              "      <th>type</th>\n",
              "    </tr>\n",
              "  </thead>\n",
              "  <tbody>\n",
              "    <tr>\n",
              "      <th>28</th>\n",
              "      <td>ISIC_0032985</td>\n",
              "      <td>1</td>\n",
              "    </tr>\n",
              "    <tr>\n",
              "      <th>24</th>\n",
              "      <td>ISIC_0024999</td>\n",
              "      <td>1</td>\n",
              "    </tr>\n",
              "    <tr>\n",
              "      <th>12</th>\n",
              "      <td>ISIC_0028034</td>\n",
              "      <td>0</td>\n",
              "    </tr>\n",
              "    <tr>\n",
              "      <th>0</th>\n",
              "      <td>ISIC_0030071</td>\n",
              "      <td>0</td>\n",
              "    </tr>\n",
              "    <tr>\n",
              "      <th>4</th>\n",
              "      <td>ISIC_0033858</td>\n",
              "      <td>0</td>\n",
              "    </tr>\n",
              "  </tbody>\n",
              "</table>\n",
              "</div>\n",
              "      <button class=\"colab-df-convert\" onclick=\"convertToInteractive('df-89782029-4109-4972-9b41-0ab44e2b3fe1')\"\n",
              "              title=\"Convert this dataframe to an interactive table.\"\n",
              "              style=\"display:none;\">\n",
              "        \n",
              "  <svg xmlns=\"http://www.w3.org/2000/svg\" height=\"24px\"viewBox=\"0 0 24 24\"\n",
              "       width=\"24px\">\n",
              "    <path d=\"M0 0h24v24H0V0z\" fill=\"none\"/>\n",
              "    <path d=\"M18.56 5.44l.94 2.06.94-2.06 2.06-.94-2.06-.94-.94-2.06-.94 2.06-2.06.94zm-11 1L8.5 8.5l.94-2.06 2.06-.94-2.06-.94L8.5 2.5l-.94 2.06-2.06.94zm10 10l.94 2.06.94-2.06 2.06-.94-2.06-.94-.94-2.06-.94 2.06-2.06.94z\"/><path d=\"M17.41 7.96l-1.37-1.37c-.4-.4-.92-.59-1.43-.59-.52 0-1.04.2-1.43.59L10.3 9.45l-7.72 7.72c-.78.78-.78 2.05 0 2.83L4 21.41c.39.39.9.59 1.41.59.51 0 1.02-.2 1.41-.59l7.78-7.78 2.81-2.81c.8-.78.8-2.07 0-2.86zM5.41 20L4 18.59l7.72-7.72 1.47 1.35L5.41 20z\"/>\n",
              "  </svg>\n",
              "      </button>\n",
              "      \n",
              "  <style>\n",
              "    .colab-df-container {\n",
              "      display:flex;\n",
              "      flex-wrap:wrap;\n",
              "      gap: 12px;\n",
              "    }\n",
              "\n",
              "    .colab-df-convert {\n",
              "      background-color: #E8F0FE;\n",
              "      border: none;\n",
              "      border-radius: 50%;\n",
              "      cursor: pointer;\n",
              "      display: none;\n",
              "      fill: #1967D2;\n",
              "      height: 32px;\n",
              "      padding: 0 0 0 0;\n",
              "      width: 32px;\n",
              "    }\n",
              "\n",
              "    .colab-df-convert:hover {\n",
              "      background-color: #E2EBFA;\n",
              "      box-shadow: 0px 1px 2px rgba(60, 64, 67, 0.3), 0px 1px 3px 1px rgba(60, 64, 67, 0.15);\n",
              "      fill: #174EA6;\n",
              "    }\n",
              "\n",
              "    [theme=dark] .colab-df-convert {\n",
              "      background-color: #3B4455;\n",
              "      fill: #D2E3FC;\n",
              "    }\n",
              "\n",
              "    [theme=dark] .colab-df-convert:hover {\n",
              "      background-color: #434B5C;\n",
              "      box-shadow: 0px 1px 3px 1px rgba(0, 0, 0, 0.15);\n",
              "      filter: drop-shadow(0px 1px 2px rgba(0, 0, 0, 0.3));\n",
              "      fill: #FFFFFF;\n",
              "    }\n",
              "  </style>\n",
              "\n",
              "      <script>\n",
              "        const buttonEl =\n",
              "          document.querySelector('#df-89782029-4109-4972-9b41-0ab44e2b3fe1 button.colab-df-convert');\n",
              "        buttonEl.style.display =\n",
              "          google.colab.kernel.accessAllowed ? 'block' : 'none';\n",
              "\n",
              "        async function convertToInteractive(key) {\n",
              "          const element = document.querySelector('#df-89782029-4109-4972-9b41-0ab44e2b3fe1');\n",
              "          const dataTable =\n",
              "            await google.colab.kernel.invokeFunction('convertToInteractive',\n",
              "                                                     [key], {});\n",
              "          if (!dataTable) return;\n",
              "\n",
              "          const docLinkHtml = 'Like what you see? Visit the ' +\n",
              "            '<a target=\"_blank\" href=https://colab.research.google.com/notebooks/data_table.ipynb>data table notebook</a>'\n",
              "            + ' to learn more about interactive tables.';\n",
              "          element.innerHTML = '';\n",
              "          dataTable['output_type'] = 'display_data';\n",
              "          await google.colab.output.renderOutput(dataTable, element);\n",
              "          const docLink = document.createElement('div');\n",
              "          docLink.innerHTML = docLinkHtml;\n",
              "          element.appendChild(docLink);\n",
              "        }\n",
              "      </script>\n",
              "    </div>\n",
              "  </div>\n",
              "  "
            ],
            "text/plain": [
              "           image  type\n",
              "28  ISIC_0032985     1\n",
              "24  ISIC_0024999     1\n",
              "12  ISIC_0028034     0\n",
              "0   ISIC_0030071     0\n",
              "4   ISIC_0033858     0"
            ]
          },
          "execution_count": 18,
          "metadata": {},
          "output_type": "execute_result"
        }
      ],
      "source": [
        "print(len(train_df))\n",
        "train_df.head()"
      ]
    },
    {
      "cell_type": "code",
      "execution_count": 19,
      "metadata": {
        "colab": {
          "base_uri": "https://localhost:8080/"
        },
        "id": "ojFBFess4nkj",
        "outputId": "417f35cc-e66c-4b86-e17a-1246b050d010"
      },
      "outputs": [
        {
          "name": "stdout",
          "output_type": "stream",
          "text": [
            "ISIC_0032985.jpg\n",
            "ISIC_0024999.jpg\n",
            "ISIC_0028034.jpg\n",
            "ISIC_0030071.jpg\n",
            "ISIC_0033858.jpg\n",
            "ISIC_0033068.jpg\n",
            "ISIC_0025002.jpg\n",
            "ISIC_0026294.jpg\n",
            "ISIC_0033080.jpg\n",
            "ISIC_0033730.jpg\n",
            "ISIC_0031629.jpg\n",
            "ISIC_0032931.jpg\n",
            "ISIC_0026516.jpg\n",
            "ISIC_0029983.jpg\n",
            "ISIC_0033166.jpg\n",
            "ISIC_0028113.jpg\n",
            "ISIC_0032424.jpg\n",
            "ISIC_0033666.jpg\n",
            "ISIC_0029747.jpg\n",
            "ISIC_0031628.jpg\n",
            "ISIC_0025528.jpg\n",
            "ISIC_0027363.jpg\n",
            "ISIC_0029570.jpg\n",
            "ISIC_0030189.jpg\n"
          ]
        }
      ],
      "source": [
        "for data in train_df['image']:\n",
        "  print(data+'.jpg')"
      ]
    },
    {
      "cell_type": "markdown",
      "metadata": {
        "id": "-40j3ha3GdG7"
      },
      "source": [
        "# Obter as imagens do dataset"
      ]
    },
    {
      "cell_type": "code",
      "execution_count": 20,
      "metadata": {
        "colab": {
          "base_uri": "https://localhost:8080/"
        },
        "id": "Mt4fPuvZ5KUW",
        "outputId": "6c3bf9d3-d789-4f19-90f5-9ab728ced941"
      },
      "outputs": [
        {
          "name": "stdout",
          "output_type": "stream",
          "text": [
            "root/images/ISIC_0033389.jpg\n"
          ]
        }
      ],
      "source": [
        "PATH_CONST = 'root/images/'\n",
        "\n",
        "all_files = glob.glob(os.path.join(PATH_CONST, \"*.jpg\"))\n",
        "print(all_files[1])"
      ]
    },
    {
      "cell_type": "markdown",
      "metadata": {
        "id": "g2_M-3YZaA4g"
      },
      "source": [
        "Aplicar greyscale e reshape nas imagens"
      ]
    },
    {
      "cell_type": "code",
      "execution_count": 21,
      "metadata": {
        "colab": {
          "base_uri": "https://localhost:8080/"
        },
        "id": "JesVwCnKEzv5",
        "outputId": "5901bf3d-2f59-482d-8a29-fe6b04c280ff"
      },
      "outputs": [
        {
          "data": {
            "text/plain": [
              "28    ISIC_0032985\n",
              "24    ISIC_0024999\n",
              "12    ISIC_0028034\n",
              "0     ISIC_0030071\n",
              "4     ISIC_0033858\n",
              "16    ISIC_0033068\n",
              "5     ISIC_0025002\n",
              "13    ISIC_0026294\n",
              "11    ISIC_0033080\n",
              "22    ISIC_0033730\n",
              "1     ISIC_0031629\n",
              "2     ISIC_0032931\n",
              "25    ISIC_0026516\n",
              "3     ISIC_0029983\n",
              "21    ISIC_0033166\n",
              "26    ISIC_0028113\n",
              "18    ISIC_0032424\n",
              "29    ISIC_0033666\n",
              "20    ISIC_0029747\n",
              "7     ISIC_0031628\n",
              "10    ISIC_0025528\n",
              "14    ISIC_0027363\n",
              "19    ISIC_0029570\n",
              "6     ISIC_0030189\n",
              "Name: image, dtype: object"
            ]
          },
          "execution_count": 21,
          "metadata": {},
          "output_type": "execute_result"
        }
      ],
      "source": [
        "print(train_df['image'])\n",
        "\n",
        "print(type(train_df['image']))"
      ]
    },
    {
      "cell_type": "code",
      "execution_count": 22,
      "metadata": {
        "id": "ex_0oNR6bYLm"
      },
      "outputs": [],
      "source": [
        "X_train = []\n",
        "X_test = []\n",
        "for img_name in train_df['image']:\n",
        "  img = cv2.imread(PATH_CONST + str(img_name)+'.jpg')\n",
        "  resized_image = cv2.resize(img, (200, 150))\n",
        "  img = cv2.cvtColor(resized_image, cv2.COLOR_BGR2GRAY)\n",
        "  \n",
        "  ph = np.ones((img.shape[0], img.shape[1], 1), dtype='uint8')\n",
        "  ph[:,:,0] = img\n",
        "  X_train.append(ph)\n",
        "\n",
        "for img_name in test_df['image']:\n",
        "  img = cv2.imread(PATH_CONST + str(img_name)+'.jpg')\n",
        "  resized_image = cv2.resize(img, (200, 150))\n",
        "  img = cv2.cvtColor(resized_image, cv2.COLOR_BGR2GRAY)\n",
        "  \n",
        "  ph = np.ones((img.shape[0], img.shape[1], 1), dtype='uint8')\n",
        "  ph[:,:,0] = img\n",
        "  X_test.append(ph)"
      ]
    },
    {
      "cell_type": "code",
      "execution_count": 23,
      "metadata": {
        "id": "5cumCgBH3KgY"
      },
      "outputs": [],
      "source": [
        "#X_train =[np.resize(np.array(cv2.cvtColor(cv2.imread(PATH_CONST + str(img_name)+'.jpg'), cv2.COLOR_BGR2GRAY)),(150,200,3))\n",
        "#          for img_name in train_df['image']] #greyscale\n",
        "\n",
        "#X_test = [cv2.imread(PATH_CONST + str(img_name)+ '.jpg') \n",
        "#          for img_name in test_df['image']]"
      ]
    },
    {
      "cell_type": "code",
      "execution_count": 26,
      "metadata": {
        "colab": {
          "base_uri": "https://localhost:8080/"
        },
        "id": "g_sdDrOwRG3u",
        "outputId": "501de8ca-51a8-403e-9b31-dc86640ff13a"
      },
      "outputs": [
        {
          "name": "stdout",
          "output_type": "stream",
          "text": [
            "root/images/reshape-150_200/ISIC_0032985.jpg\n",
            "root/images/reshape-150_200/ISIC_0024999.jpg\n",
            "root/images/reshape-150_200/ISIC_0028034.jpg\n",
            "root/images/reshape-150_200/ISIC_0030071.jpg\n",
            "root/images/reshape-150_200/ISIC_0033858.jpg\n",
            "root/images/reshape-150_200/ISIC_0033068.jpg\n",
            "root/images/reshape-150_200/ISIC_0025002.jpg\n",
            "root/images/reshape-150_200/ISIC_0026294.jpg\n",
            "root/images/reshape-150_200/ISIC_0033080.jpg\n",
            "root/images/reshape-150_200/ISIC_0033730.jpg\n",
            "root/images/reshape-150_200/ISIC_0031629.jpg\n",
            "root/images/reshape-150_200/ISIC_0032931.jpg\n",
            "root/images/reshape-150_200/ISIC_0026516.jpg\n",
            "root/images/reshape-150_200/ISIC_0029983.jpg\n",
            "root/images/reshape-150_200/ISIC_0033166.jpg\n",
            "root/images/reshape-150_200/ISIC_0028113.jpg\n",
            "root/images/reshape-150_200/ISIC_0032424.jpg\n",
            "root/images/reshape-150_200/ISIC_0033666.jpg\n",
            "root/images/reshape-150_200/ISIC_0029747.jpg\n",
            "root/images/reshape-150_200/ISIC_0031628.jpg\n",
            "root/images/reshape-150_200/ISIC_0025528.jpg\n",
            "root/images/reshape-150_200/ISIC_0027363.jpg\n",
            "root/images/reshape-150_200/ISIC_0029570.jpg\n",
            "root/images/reshape-150_200/ISIC_0030189.jpg\n"
          ]
        }
      ],
      "source": [
        "# Salvar imagens processadas (redimensionadas e com aplicação de grayscale)\n",
        "\n",
        "PATH_PROCESSED_CONST = 'root/images/reshape-150_200/'\n",
        "\n",
        "for img_name, processed_img in zip(train_df['image'], X_train):\n",
        "  print(PATH_PROCESSED_CONST + str(img_name) + '.jpg')\n",
        "  cv2.imwrite(PATH_PROCESSED_CONST + str(img_name) + '.jpg',processed_img)\n",
        "  #processed_img.save(PATH_PROCESSED_CONST + str(img_name) + '.jpg')"
      ]
    },
    {
      "cell_type": "code",
      "execution_count": null,
      "metadata": {
        "id": "mw6rZMe-6Zht"
      },
      "outputs": [],
      "source": [
        "cv2_imshow(X_test[0])"
      ]
    },
    {
      "cell_type": "code",
      "execution_count": null,
      "metadata": {
        "id": "4bv8xEQvdLjY"
      },
      "outputs": [],
      "source": [
        "X_train[0].shape"
      ]
    },
    {
      "cell_type": "markdown",
      "metadata": {
        "id": "Bbpdff7wGjH8"
      },
      "source": [
        "# Criar modelo\n",
        "\n",
        "Construir uma rede neural CNN levando em conta a dimensão das imagens (450, 600, 3)\n",
        "\n",
        "https://www.tensorflow.org/tutorials/images/cnn"
      ]
    },
    {
      "cell_type": "code",
      "execution_count": null,
      "metadata": {
        "id": "MRrfXh03Hnbx"
      },
      "outputs": [],
      "source": [
        "height = 450  # image height\n",
        "width = 600   # image width\n",
        "channels = -1  # number of color channels, RGB\n",
        "batch_size = 2  # model batch size for training and evaluation\n",
        "img_shape = (height, width, channels)\n",
        "img_size = (height, width)\n",
        "class_count = 2"
      ]
    },
    {
      "cell_type": "markdown",
      "metadata": {
        "id": "qPyK_fpdJd2M"
      },
      "source": [
        "Arquitetura EfficientNetB1\n",
        "\n",
        "https://www.tensorflow.org/api_docs/python/tf/keras/applications/efficientnet/EfficientNetB1\n",
        "\n",
        "![Architecture-of-EfficientNetB1-with-MBConv-as-basic-building-blocks-The-overall.png](data:image/png;base64,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)"
      ]
    },
    {
      "cell_type": "markdown",
      "metadata": {
        "id": "sXopY_QoJyMo"
      },
      "source": [
        "Base de dados imagenet\n",
        "\n",
        "Utiliza os pesos da EfficientNetB1 treinada na imagenet"
      ]
    },
    {
      "cell_type": "code",
      "execution_count": null,
      "metadata": {
        "id": "AZoSGFuDIyev"
      },
      "outputs": [],
      "source": [
        "model_name='EfficientNetB5'\n",
        "base_model=tf.keras.applications.EfficientNetB1(include_top=False, weights=\"imagenet\",input_shape=(150, 200,3), pooling='max') \n",
        "x=base_model.output\n",
        "\n",
        "# aplicação de 4 camadas na rede neural\n",
        "\n",
        "x = keras.layers.BatchNormalization(axis=-1, momentum=0.99, epsilon=0.001 )(x)\n",
        "\n",
        "x = Dense(256, kernel_regularizer = regularizers.l2(l = 0.016),activity_regularizer=regularizers.l1(0.006),\n",
        "                bias_regularizer=regularizers.l1(0.006) ,activation='relu')(x)\n",
        "\n",
        "x = Dropout(rate=.45, seed=123)(x)\n",
        "\n",
        "output=Dense(class_count, activation='softmax')(x)\n",
        "\n",
        "model=Model(inputs=base_model.input, outputs=output)\n",
        "model.compile(optimizer='adam',loss = tf.keras.losses.SparseCategoricalCrossentropy(from_logits=True),\n",
        "              metrics=['accuracy'])"
      ]
    },
    {
      "cell_type": "code",
      "execution_count": null,
      "metadata": {
        "id": "30t7e6rfKylr"
      },
      "outputs": [],
      "source": [
        "model.summary()"
      ]
    },
    {
      "cell_type": "markdown",
      "metadata": {
        "id": "LVkW2V-tHhK7"
      },
      "source": [
        "# Treinar modelo"
      ]
    },
    {
      "cell_type": "code",
      "execution_count": null,
      "metadata": {
        "id": "1ZTOdrvYLRyi"
      },
      "outputs": [],
      "source": [
        "X_train = np.array(X_train)\n",
        "y_train = train_df['type'].to_numpy().reshape(-1)\n",
        "\n",
        "\n",
        "X_test = np.array(X_test)\n",
        "y_test = test_df['type'].to_numpy().reshape(-1)"
      ]
    },
    {
      "cell_type": "code",
      "execution_count": null,
      "metadata": {
        "id": "DLkJj3uuNTlU"
      },
      "outputs": [],
      "source": [
        "X_train[0][0]"
      ]
    },
    {
      "cell_type": "code",
      "execution_count": null,
      "metadata": {
        "id": "_C-vf14_Hogm"
      },
      "outputs": [],
      "source": [
        "history = model.fit(X_train, y_train, epochs=10, \n",
        "                    validation_data=(X_test, y_test))"
      ]
    },
    {
      "cell_type": "markdown",
      "metadata": {
        "id": "p0IrgsR-HiOm"
      },
      "source": [
        "# Testar modelo"
      ]
    },
    {
      "cell_type": "code",
      "execution_count": null,
      "metadata": {
        "id": "oRZY7M80HpB9"
      },
      "outputs": [],
      "source": [
        "plt.plot(history.history['accuracy'], label='accuracy')\n",
        "plt.plot(history.history['val_accuracy'], label = 'val_accuracy')\n",
        "plt.xlabel('Epoch')\n",
        "plt.ylabel('Accuracy')\n",
        "plt.ylim([0.5, 1])\n",
        "plt.legend(loc='lower right')\n",
        "\n",
        "test_loss, test_acc = model.evaluate(test_images,  test_labels, verbose=2)"
      ]
    },
    {
      "cell_type": "markdown",
      "metadata": {
        "id": "BKB8912_qMKm"
      },
      "source": [
        "# Técnicas de balanceamento para futuros testes\n",
        "\n",
        "Aplicação de data augumentation, filtro nas imagens, etc\n",
        "Completar ...."
      ]
    },
    {
      "cell_type": "markdown",
      "metadata": {
        "id": "gCpkXp_1mNSn"
      },
      "source": [
        "Imagens duplicadas"
      ]
    },
    {
      "cell_type": "code",
      "execution_count": null,
      "metadata": {
        "id": "j9oQf8_RgQhT"
      },
      "outputs": [],
      "source": [
        "# deleta as imagens duplicadas https://www.youtube.com/watch?v=hYkuO-sCPzI\n",
        "def im_comparator(dataPath: str) -> list:\n",
        "\tcount = 0 \n",
        "\tall_files = glob.glob(os.path.join(dataPath, \"*.jpg\"))\n",
        "\tfor file in all_files:\n",
        "\t\tfor pict in all_files:\n",
        "\t\t\t\tif pict != file:\n",
        "\t\t\t\t\tif filecmp.cmp(file, pict):\n",
        "\t\t\t\t\t\tos.remove(pict)\n",
        "\t\t\t\t\t\tprint(f'similar {file}')\n",
        "\t\t\t\t\t\tcount+=1\n",
        "\t\t\t\t\t#else:\n",
        "\t\t\t\t\t\t#print('non similar')\n",
        "\treturn count\n",
        "\n",
        "\t'''\tunique_images = []\n",
        "\t\tall_files = glob.glob(os.path.join(dataPath, \"*.jpg\"))\n",
        "\t\tfor count, file_name in enumerate(all_files):\n",
        "\t\t\timg = Image.open(file_name)\n",
        "\t\t\t# img = list(img.getdata())\n",
        "\t\t\tif img not in unique_images:\n",
        "\t\t\t\tunique_images.append(img) \n",
        "\t\t\n",
        "\t\t\telse:\n",
        "\t\t\t\tprint (f'redundant image {count}: {img.filename}')\n",
        "\n",
        "\t\treturn unique_images\n",
        "\t'''"
      ]
    },
    {
      "cell_type": "code",
      "execution_count": null,
      "metadata": {
        "id": "nWNeFQDNjbNI"
      },
      "outputs": [],
      "source": [
        "# imagesPath = r'root/images/sem_duplicadas'\n",
        "\n",
        "# duplicate_images = im_comparator(imagesPath)\n",
        "\n",
        "# print(f'duplicate images: {len(duplicate_images)}')"
      ]
    },
    {
      "cell_type": "markdown",
      "metadata": {
        "id": "Gn91Ec6-JcNt"
      },
      "source": [
        "**Data augumentation**"
      ]
    },
    {
      "cell_type": "markdown",
      "metadata": {
        "id": "9rmiPtcJ1Rov"
      },
      "source": [
        "**Aplicar diferentes filtros nas imagens**"
      ]
    },
    {
      "cell_type": "code",
      "execution_count": null,
      "metadata": {
        "id": "2LaIOaW61X1o"
      },
      "outputs": [],
      "source": [
        "'''imagesPath = r'root/images/filtro'\n",
        "all_files = glob.glob(os.path.join(imagesPath, \"*.jpg\"))'''\n",
        "\n",
        "'''\n",
        "import cv2\n",
        "img=cv2.imread(\"img.jpg\")\n",
        "filter_blur=cv2.blur(img,ksize=(3,3))\n",
        "cv2.imshow(\"janela\",filter_blur)\n",
        "cv2.waitKey()\n",
        "'''"
      ]
    },
    {
      "cell_type": "markdown",
      "metadata": {
        "id": "vYLYVxAiJVHF"
      },
      "source": [
        "**Rotacionar imagens**"
      ]
    },
    {
      "cell_type": "code",
      "execution_count": null,
      "metadata": {
        "id": "y1A8oDlsQj7S"
      },
      "outputs": [],
      "source": [
        "'''import cv2\n",
        "import imutils\n",
        "\n",
        "imagesPath = r'root/images/rotacionada'\n",
        "all_files = glob.glob(os.path.join(imagesPath, \"*.jpg\"))\n",
        "\n",
        "for file in all_files:\n",
        "  # https://www.askpython.com/python/examples/rotate-an-image-by-an-angle-in-python\n",
        "  image = cv2.imread(file)\n",
        "  rot = imutils.rotate(image, angle=45)\n",
        "  cv2_imshow(rot)\n",
        "  cv2.waitKey(0)'''"
      ]
    }
  ],
  "metadata": {
    "colab": {
      "collapsed_sections": [],
      "provenance": []
    },
    "kernelspec": {
      "display_name": "Python 3.10.5 64-bit",
      "language": "python",
      "name": "python3"
    },
    "language_info": {
      "name": "python",
      "version": "3.10.5"
    },
    "vscode": {
      "interpreter": {
        "hash": "369f2c481f4da34e4445cda3fffd2e751bd1c4d706f27375911949ba6bb62e1c"
      }
    }
  },
  "nbformat": 4,
  "nbformat_minor": 0
}
