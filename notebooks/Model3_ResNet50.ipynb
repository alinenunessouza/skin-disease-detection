{
  "cells": [
    {
      "cell_type": "markdown",
      "source": [
        "## Informações sobre o modelo desenvolvido:\n",
        "\n",
        "4 modelos compartilhando a mesma CNN"
      ],
      "metadata": {
        "id": "OwS45h5b73tZ"
      }
    },
    {
      "cell_type": "markdown",
      "metadata": {
        "id": "JfG5sByKn5Qz"
      },
      "source": [
        "# Setup"
      ]
    },
    {
      "cell_type": "code",
      "execution_count": null,
      "metadata": {
        "colab": {
          "base_uri": "https://localhost:8080/"
        },
        "id": "YS8brx04M-Ia",
        "outputId": "fea9c9b3-9963-4a60-ef50-29acbf4dced6"
      },
      "outputs": [
        {
          "output_type": "stream",
          "name": "stdout",
          "text": [
            "Drive already mounted at /content/gdrive; to attempt to forcibly remount, call drive.mount(\"/content/gdrive\", force_remount=True).\n",
            "ln: failed to create symbolic link 'root/Trabalho Sistemas de Inteligencia': File exists\n"
          ]
        }
      ],
      "source": [
        "# Mount Drive\n",
        "from google.colab import drive\n",
        "drive.mount('/content/gdrive')\n",
        "!ln -s /content/gdrive/My\\ Drive/Trabalho\\ Sistemas\\ de\\ Inteligencia/ root"
      ]
    },
    {
      "cell_type": "code",
      "source": [
        "!pip install tensorflow_decision_forests"
      ],
      "metadata": {
        "colab": {
          "base_uri": "https://localhost:8080/"
        },
        "id": "WyHGqplqtXUw",
        "outputId": "59f4fff1-2438-451f-98f0-66c443830f2d"
      },
      "execution_count": null,
      "outputs": [
        {
          "output_type": "stream",
          "name": "stdout",
          "text": [
            "Looking in indexes: https://pypi.org/simple, https://us-python.pkg.dev/colab-wheels/public/simple/\n",
            "Requirement already satisfied: tensorflow_decision_forests in /usr/local/lib/python3.7/dist-packages (1.1.0)\n",
            "Requirement already satisfied: numpy in /usr/local/lib/python3.7/dist-packages (from tensorflow_decision_forests) (1.21.6)\n",
            "Requirement already satisfied: wheel in /usr/local/lib/python3.7/dist-packages (from tensorflow_decision_forests) (0.38.4)\n",
            "Requirement already satisfied: pandas in /usr/local/lib/python3.7/dist-packages (from tensorflow_decision_forests) (1.3.5)\n",
            "Requirement already satisfied: six in /usr/local/lib/python3.7/dist-packages (from tensorflow_decision_forests) (1.15.0)\n",
            "Requirement already satisfied: wurlitzer in /usr/local/lib/python3.7/dist-packages (from tensorflow_decision_forests) (3.0.2)\n",
            "Requirement already satisfied: absl-py in /usr/local/lib/python3.7/dist-packages (from tensorflow_decision_forests) (1.3.0)\n",
            "Requirement already satisfied: tensorflow~=2.11.0 in /usr/local/lib/python3.7/dist-packages (from tensorflow_decision_forests) (2.11.0)\n",
            "Requirement already satisfied: h5py>=2.9.0 in /usr/local/lib/python3.7/dist-packages (from tensorflow~=2.11.0->tensorflow_decision_forests) (3.1.0)\n",
            "Requirement already satisfied: protobuf<3.20,>=3.9.2 in /usr/local/lib/python3.7/dist-packages (from tensorflow~=2.11.0->tensorflow_decision_forests) (3.19.6)\n",
            "Requirement already satisfied: opt-einsum>=2.3.2 in /usr/local/lib/python3.7/dist-packages (from tensorflow~=2.11.0->tensorflow_decision_forests) (3.3.0)\n",
            "Requirement already satisfied: libclang>=13.0.0 in /usr/local/lib/python3.7/dist-packages (from tensorflow~=2.11.0->tensorflow_decision_forests) (14.0.6)\n",
            "Requirement already satisfied: astunparse>=1.6.0 in /usr/local/lib/python3.7/dist-packages (from tensorflow~=2.11.0->tensorflow_decision_forests) (1.6.3)\n",
            "Requirement already satisfied: packaging in /usr/local/lib/python3.7/dist-packages (from tensorflow~=2.11.0->tensorflow_decision_forests) (21.3)\n",
            "Requirement already satisfied: termcolor>=1.1.0 in /usr/local/lib/python3.7/dist-packages (from tensorflow~=2.11.0->tensorflow_decision_forests) (2.1.0)\n",
            "Requirement already satisfied: google-pasta>=0.1.1 in /usr/local/lib/python3.7/dist-packages (from tensorflow~=2.11.0->tensorflow_decision_forests) (0.2.0)\n",
            "Requirement already satisfied: tensorflow-estimator<2.12,>=2.11.0 in /usr/local/lib/python3.7/dist-packages (from tensorflow~=2.11.0->tensorflow_decision_forests) (2.11.0)\n",
            "Requirement already satisfied: setuptools in /usr/local/lib/python3.7/dist-packages (from tensorflow~=2.11.0->tensorflow_decision_forests) (57.4.0)\n",
            "Requirement already satisfied: grpcio<2.0,>=1.24.3 in /usr/local/lib/python3.7/dist-packages (from tensorflow~=2.11.0->tensorflow_decision_forests) (1.50.0)\n",
            "Requirement already satisfied: typing-extensions>=3.6.6 in /usr/local/lib/python3.7/dist-packages (from tensorflow~=2.11.0->tensorflow_decision_forests) (4.1.1)\n",
            "Requirement already satisfied: keras<2.12,>=2.11.0 in /usr/local/lib/python3.7/dist-packages (from tensorflow~=2.11.0->tensorflow_decision_forests) (2.11.0)\n",
            "Requirement already satisfied: tensorflow-io-gcs-filesystem>=0.23.1 in /usr/local/lib/python3.7/dist-packages (from tensorflow~=2.11.0->tensorflow_decision_forests) (0.27.0)\n",
            "Requirement already satisfied: flatbuffers>=2.0 in /usr/local/lib/python3.7/dist-packages (from tensorflow~=2.11.0->tensorflow_decision_forests) (22.11.23)\n",
            "Requirement already satisfied: tensorboard<2.12,>=2.11 in /usr/local/lib/python3.7/dist-packages (from tensorflow~=2.11.0->tensorflow_decision_forests) (2.11.0)\n",
            "Requirement already satisfied: wrapt>=1.11.0 in /usr/local/lib/python3.7/dist-packages (from tensorflow~=2.11.0->tensorflow_decision_forests) (1.14.1)\n",
            "Requirement already satisfied: gast<=0.4.0,>=0.2.1 in /usr/local/lib/python3.7/dist-packages (from tensorflow~=2.11.0->tensorflow_decision_forests) (0.4.0)\n",
            "Requirement already satisfied: cached-property in /usr/local/lib/python3.7/dist-packages (from h5py>=2.9.0->tensorflow~=2.11.0->tensorflow_decision_forests) (1.5.2)\n",
            "Requirement already satisfied: tensorboard-data-server<0.7.0,>=0.6.0 in /usr/local/lib/python3.7/dist-packages (from tensorboard<2.12,>=2.11->tensorflow~=2.11.0->tensorflow_decision_forests) (0.6.1)\n",
            "Requirement already satisfied: google-auth<3,>=1.6.3 in /usr/local/lib/python3.7/dist-packages (from tensorboard<2.12,>=2.11->tensorflow~=2.11.0->tensorflow_decision_forests) (2.14.1)\n",
            "Requirement already satisfied: werkzeug>=1.0.1 in /usr/local/lib/python3.7/dist-packages (from tensorboard<2.12,>=2.11->tensorflow~=2.11.0->tensorflow_decision_forests) (1.0.1)\n",
            "Requirement already satisfied: tensorboard-plugin-wit>=1.6.0 in /usr/local/lib/python3.7/dist-packages (from tensorboard<2.12,>=2.11->tensorflow~=2.11.0->tensorflow_decision_forests) (1.8.1)\n",
            "Requirement already satisfied: google-auth-oauthlib<0.5,>=0.4.1 in /usr/local/lib/python3.7/dist-packages (from tensorboard<2.12,>=2.11->tensorflow~=2.11.0->tensorflow_decision_forests) (0.4.6)\n",
            "Requirement already satisfied: requests<3,>=2.21.0 in /usr/local/lib/python3.7/dist-packages (from tensorboard<2.12,>=2.11->tensorflow~=2.11.0->tensorflow_decision_forests) (2.23.0)\n",
            "Requirement already satisfied: markdown>=2.6.8 in /usr/local/lib/python3.7/dist-packages (from tensorboard<2.12,>=2.11->tensorflow~=2.11.0->tensorflow_decision_forests) (3.4.1)\n",
            "Requirement already satisfied: pyasn1-modules>=0.2.1 in /usr/local/lib/python3.7/dist-packages (from google-auth<3,>=1.6.3->tensorboard<2.12,>=2.11->tensorflow~=2.11.0->tensorflow_decision_forests) (0.2.8)\n",
            "Requirement already satisfied: rsa<5,>=3.1.4 in /usr/local/lib/python3.7/dist-packages (from google-auth<3,>=1.6.3->tensorboard<2.12,>=2.11->tensorflow~=2.11.0->tensorflow_decision_forests) (4.9)\n",
            "Requirement already satisfied: cachetools<6.0,>=2.0.0 in /usr/local/lib/python3.7/dist-packages (from google-auth<3,>=1.6.3->tensorboard<2.12,>=2.11->tensorflow~=2.11.0->tensorflow_decision_forests) (5.2.0)\n",
            "Requirement already satisfied: requests-oauthlib>=0.7.0 in /usr/local/lib/python3.7/dist-packages (from google-auth-oauthlib<0.5,>=0.4.1->tensorboard<2.12,>=2.11->tensorflow~=2.11.0->tensorflow_decision_forests) (1.3.1)\n",
            "Requirement already satisfied: importlib-metadata>=4.4 in /usr/local/lib/python3.7/dist-packages (from markdown>=2.6.8->tensorboard<2.12,>=2.11->tensorflow~=2.11.0->tensorflow_decision_forests) (4.13.0)\n",
            "Requirement already satisfied: zipp>=0.5 in /usr/local/lib/python3.7/dist-packages (from importlib-metadata>=4.4->markdown>=2.6.8->tensorboard<2.12,>=2.11->tensorflow~=2.11.0->tensorflow_decision_forests) (3.10.0)\n",
            "Requirement already satisfied: pyasn1<0.5.0,>=0.4.6 in /usr/local/lib/python3.7/dist-packages (from pyasn1-modules>=0.2.1->google-auth<3,>=1.6.3->tensorboard<2.12,>=2.11->tensorflow~=2.11.0->tensorflow_decision_forests) (0.4.8)\n",
            "Requirement already satisfied: chardet<4,>=3.0.2 in /usr/local/lib/python3.7/dist-packages (from requests<3,>=2.21.0->tensorboard<2.12,>=2.11->tensorflow~=2.11.0->tensorflow_decision_forests) (3.0.4)\n",
            "Requirement already satisfied: urllib3!=1.25.0,!=1.25.1,<1.26,>=1.21.1 in /usr/local/lib/python3.7/dist-packages (from requests<3,>=2.21.0->tensorboard<2.12,>=2.11->tensorflow~=2.11.0->tensorflow_decision_forests) (1.24.3)\n",
            "Requirement already satisfied: idna<3,>=2.5 in /usr/local/lib/python3.7/dist-packages (from requests<3,>=2.21.0->tensorboard<2.12,>=2.11->tensorflow~=2.11.0->tensorflow_decision_forests) (2.10)\n",
            "Requirement already satisfied: certifi>=2017.4.17 in /usr/local/lib/python3.7/dist-packages (from requests<3,>=2.21.0->tensorboard<2.12,>=2.11->tensorflow~=2.11.0->tensorflow_decision_forests) (2022.9.24)\n",
            "Requirement already satisfied: oauthlib>=3.0.0 in /usr/local/lib/python3.7/dist-packages (from requests-oauthlib>=0.7.0->google-auth-oauthlib<0.5,>=0.4.1->tensorboard<2.12,>=2.11->tensorflow~=2.11.0->tensorflow_decision_forests) (3.2.2)\n",
            "Requirement already satisfied: pyparsing!=3.0.5,>=2.0.2 in /usr/local/lib/python3.7/dist-packages (from packaging->tensorflow~=2.11.0->tensorflow_decision_forests) (3.0.9)\n",
            "Requirement already satisfied: pytz>=2017.3 in /usr/local/lib/python3.7/dist-packages (from pandas->tensorflow_decision_forests) (2022.6)\n",
            "Requirement already satisfied: python-dateutil>=2.7.3 in /usr/local/lib/python3.7/dist-packages (from pandas->tensorflow_decision_forests) (2.8.2)\n"
          ]
        }
      ]
    },
    {
      "cell_type": "code",
      "execution_count": null,
      "metadata": {
        "id": "0Fpg6PgBSfOY",
        "colab": {
          "base_uri": "https://localhost:8080/"
        },
        "outputId": "854eca4a-fb23-4515-e8ea-bbb6ff85196c"
      },
      "outputs": [
        {
          "output_type": "execute_result",
          "data": {
            "text/plain": [
              "True"
            ]
          },
          "metadata": {},
          "execution_count": 3
        }
      ],
      "source": [
        "# manipulação de dataset\n",
        "import pandas as pd\n",
        "\n",
        "# pacote de álgebra linear, faz manipulações de vetores e etc\n",
        "import numpy as np\n",
        "\n",
        "# import pytorch as pyt\n",
        "from PIL import Image, ImageOps\n",
        "\n",
        "# functions for creating and removing a directory (folder), fetching its contents, changing and identifying the current directory, etc\n",
        "import os\n",
        "\n",
        "# used to return all file paths that match a specific pattern\n",
        "import glob\n",
        "\n",
        "# opencv-python, solve computer vision problems\n",
        "import cv2\n",
        "\n",
        "# functions to compare files and directories, with various optional time/correctness trade-offs\n",
        "import filecmp\n",
        "\n",
        "# split dataset between training and testing data\n",
        "from sklearn.model_selection import train_test_split\n",
        "\n",
        "# preprocessing and Normalization, includes scaling, centering, normalization, binarization methods.\n",
        "from sklearn import preprocessing\n",
        "\n",
        "import matplotlib.pyplot as plt\n",
        "\n",
        "import tensorflow as tf\n",
        "from tensorflow import keras\n",
        "from tensorflow.keras import backend as K\n",
        "from tensorflow.keras.layers import Dense, Activation,Dropout,Conv2D, MaxPooling2D,BatchNormalization, Flatten\n",
        "from tensorflow.keras.optimizers import Adam, Adamax\n",
        "from tensorflow.keras.metrics import categorical_crossentropy\n",
        "from tensorflow.keras import regularizers\n",
        "from tensorflow.keras.preprocessing.image import ImageDataGenerator\n",
        "from tensorflow.keras.models import Model, load_model, Sequential\n",
        "from tensorflow.keras.applications import ResNet50\n",
        "\n",
        "import seaborn as sns\n",
        "\n",
        "from sklearn.metrics import plot_confusion_matrix\n",
        "from sklearn.metrics import confusion_matrix\n",
        "from sklearn.metrics import classification_report\n",
        "\n",
        "from google.colab.patches import cv2_imshow\n",
        "\n",
        "tf.executing_eagerly()"
      ]
    },
    {
      "cell_type": "markdown",
      "metadata": {
        "id": "7PuxzetBoLSN"
      },
      "source": [
        "# Leitura do dataset não processado"
      ]
    },
    {
      "cell_type": "code",
      "execution_count": null,
      "metadata": {
        "id": "W8mQgR5AH9PY"
      },
      "outputs": [],
      "source": [
        "groundTruthPath = 'root/GroundTruth.csv'"
      ]
    },
    {
      "cell_type": "code",
      "execution_count": null,
      "metadata": {
        "colab": {
          "base_uri": "https://localhost:8080/",
          "height": 206
        },
        "id": "PzDRc4QMQOhl",
        "outputId": "a494f170-5744-45d9-95e9-7ac6fe1ace3c"
      },
      "outputs": [
        {
          "output_type": "execute_result",
          "data": {
            "text/plain": [
              "          image  MEL   NV  BCC  AKIEC  BKL   DF  VASC\n",
              "0  ISIC_0024306  0.0  1.0  0.0    0.0  0.0  0.0   0.0\n",
              "1  ISIC_0024307  0.0  1.0  0.0    0.0  0.0  0.0   0.0\n",
              "2  ISIC_0024308  0.0  1.0  0.0    0.0  0.0  0.0   0.0\n",
              "3  ISIC_0024309  0.0  1.0  0.0    0.0  0.0  0.0   0.0\n",
              "4  ISIC_0024310  1.0  0.0  0.0    0.0  0.0  0.0   0.0"
            ],
            "text/html": [
              "\n",
              "  <div id=\"df-53b50ebf-f617-48fc-aca4-5bdec6765c61\">\n",
              "    <div class=\"colab-df-container\">\n",
              "      <div>\n",
              "<style scoped>\n",
              "    .dataframe tbody tr th:only-of-type {\n",
              "        vertical-align: middle;\n",
              "    }\n",
              "\n",
              "    .dataframe tbody tr th {\n",
              "        vertical-align: top;\n",
              "    }\n",
              "\n",
              "    .dataframe thead th {\n",
              "        text-align: right;\n",
              "    }\n",
              "</style>\n",
              "<table border=\"1\" class=\"dataframe\">\n",
              "  <thead>\n",
              "    <tr style=\"text-align: right;\">\n",
              "      <th></th>\n",
              "      <th>image</th>\n",
              "      <th>MEL</th>\n",
              "      <th>NV</th>\n",
              "      <th>BCC</th>\n",
              "      <th>AKIEC</th>\n",
              "      <th>BKL</th>\n",
              "      <th>DF</th>\n",
              "      <th>VASC</th>\n",
              "    </tr>\n",
              "  </thead>\n",
              "  <tbody>\n",
              "    <tr>\n",
              "      <th>0</th>\n",
              "      <td>ISIC_0024306</td>\n",
              "      <td>0.0</td>\n",
              "      <td>1.0</td>\n",
              "      <td>0.0</td>\n",
              "      <td>0.0</td>\n",
              "      <td>0.0</td>\n",
              "      <td>0.0</td>\n",
              "      <td>0.0</td>\n",
              "    </tr>\n",
              "    <tr>\n",
              "      <th>1</th>\n",
              "      <td>ISIC_0024307</td>\n",
              "      <td>0.0</td>\n",
              "      <td>1.0</td>\n",
              "      <td>0.0</td>\n",
              "      <td>0.0</td>\n",
              "      <td>0.0</td>\n",
              "      <td>0.0</td>\n",
              "      <td>0.0</td>\n",
              "    </tr>\n",
              "    <tr>\n",
              "      <th>2</th>\n",
              "      <td>ISIC_0024308</td>\n",
              "      <td>0.0</td>\n",
              "      <td>1.0</td>\n",
              "      <td>0.0</td>\n",
              "      <td>0.0</td>\n",
              "      <td>0.0</td>\n",
              "      <td>0.0</td>\n",
              "      <td>0.0</td>\n",
              "    </tr>\n",
              "    <tr>\n",
              "      <th>3</th>\n",
              "      <td>ISIC_0024309</td>\n",
              "      <td>0.0</td>\n",
              "      <td>1.0</td>\n",
              "      <td>0.0</td>\n",
              "      <td>0.0</td>\n",
              "      <td>0.0</td>\n",
              "      <td>0.0</td>\n",
              "      <td>0.0</td>\n",
              "    </tr>\n",
              "    <tr>\n",
              "      <th>4</th>\n",
              "      <td>ISIC_0024310</td>\n",
              "      <td>1.0</td>\n",
              "      <td>0.0</td>\n",
              "      <td>0.0</td>\n",
              "      <td>0.0</td>\n",
              "      <td>0.0</td>\n",
              "      <td>0.0</td>\n",
              "      <td>0.0</td>\n",
              "    </tr>\n",
              "  </tbody>\n",
              "</table>\n",
              "</div>\n",
              "      <button class=\"colab-df-convert\" onclick=\"convertToInteractive('df-53b50ebf-f617-48fc-aca4-5bdec6765c61')\"\n",
              "              title=\"Convert this dataframe to an interactive table.\"\n",
              "              style=\"display:none;\">\n",
              "        \n",
              "  <svg xmlns=\"http://www.w3.org/2000/svg\" height=\"24px\"viewBox=\"0 0 24 24\"\n",
              "       width=\"24px\">\n",
              "    <path d=\"M0 0h24v24H0V0z\" fill=\"none\"/>\n",
              "    <path d=\"M18.56 5.44l.94 2.06.94-2.06 2.06-.94-2.06-.94-.94-2.06-.94 2.06-2.06.94zm-11 1L8.5 8.5l.94-2.06 2.06-.94-2.06-.94L8.5 2.5l-.94 2.06-2.06.94zm10 10l.94 2.06.94-2.06 2.06-.94-2.06-.94-.94-2.06-.94 2.06-2.06.94z\"/><path d=\"M17.41 7.96l-1.37-1.37c-.4-.4-.92-.59-1.43-.59-.52 0-1.04.2-1.43.59L10.3 9.45l-7.72 7.72c-.78.78-.78 2.05 0 2.83L4 21.41c.39.39.9.59 1.41.59.51 0 1.02-.2 1.41-.59l7.78-7.78 2.81-2.81c.8-.78.8-2.07 0-2.86zM5.41 20L4 18.59l7.72-7.72 1.47 1.35L5.41 20z\"/>\n",
              "  </svg>\n",
              "      </button>\n",
              "      \n",
              "  <style>\n",
              "    .colab-df-container {\n",
              "      display:flex;\n",
              "      flex-wrap:wrap;\n",
              "      gap: 12px;\n",
              "    }\n",
              "\n",
              "    .colab-df-convert {\n",
              "      background-color: #E8F0FE;\n",
              "      border: none;\n",
              "      border-radius: 50%;\n",
              "      cursor: pointer;\n",
              "      display: none;\n",
              "      fill: #1967D2;\n",
              "      height: 32px;\n",
              "      padding: 0 0 0 0;\n",
              "      width: 32px;\n",
              "    }\n",
              "\n",
              "    .colab-df-convert:hover {\n",
              "      background-color: #E2EBFA;\n",
              "      box-shadow: 0px 1px 2px rgba(60, 64, 67, 0.3), 0px 1px 3px 1px rgba(60, 64, 67, 0.15);\n",
              "      fill: #174EA6;\n",
              "    }\n",
              "\n",
              "    [theme=dark] .colab-df-convert {\n",
              "      background-color: #3B4455;\n",
              "      fill: #D2E3FC;\n",
              "    }\n",
              "\n",
              "    [theme=dark] .colab-df-convert:hover {\n",
              "      background-color: #434B5C;\n",
              "      box-shadow: 0px 1px 3px 1px rgba(0, 0, 0, 0.15);\n",
              "      filter: drop-shadow(0px 1px 2px rgba(0, 0, 0, 0.3));\n",
              "      fill: #FFFFFF;\n",
              "    }\n",
              "  </style>\n",
              "\n",
              "      <script>\n",
              "        const buttonEl =\n",
              "          document.querySelector('#df-53b50ebf-f617-48fc-aca4-5bdec6765c61 button.colab-df-convert');\n",
              "        buttonEl.style.display =\n",
              "          google.colab.kernel.accessAllowed ? 'block' : 'none';\n",
              "\n",
              "        async function convertToInteractive(key) {\n",
              "          const element = document.querySelector('#df-53b50ebf-f617-48fc-aca4-5bdec6765c61');\n",
              "          const dataTable =\n",
              "            await google.colab.kernel.invokeFunction('convertToInteractive',\n",
              "                                                     [key], {});\n",
              "          if (!dataTable) return;\n",
              "\n",
              "          const docLinkHtml = 'Like what you see? Visit the ' +\n",
              "            '<a target=\"_blank\" href=https://colab.research.google.com/notebooks/data_table.ipynb>data table notebook</a>'\n",
              "            + ' to learn more about interactive tables.';\n",
              "          element.innerHTML = '';\n",
              "          dataTable['output_type'] = 'display_data';\n",
              "          await google.colab.output.renderOutput(dataTable, element);\n",
              "          const docLink = document.createElement('div');\n",
              "          docLink.innerHTML = docLinkHtml;\n",
              "          element.appendChild(docLink);\n",
              "        }\n",
              "      </script>\n",
              "    </div>\n",
              "  </div>\n",
              "  "
            ]
          },
          "metadata": {},
          "execution_count": 5
        }
      ],
      "source": [
        "originalDataset = pd.read_csv(groundTruthPath)\n",
        "originalDataset.head()"
      ]
    },
    {
      "cell_type": "markdown",
      "metadata": {
        "id": "_SgKsL1mr2kg"
      },
      "source": [
        "**Transforma onehot encoder em labels qualitativos**\n",
        "\n",
        "Onehot encoder é uma técnica que transforma valores qualitativos em quantitativos através da geração de conjuntos R^(numero de classes)"
      ]
    },
    {
      "cell_type": "code",
      "execution_count": null,
      "metadata": {
        "colab": {
          "base_uri": "https://localhost:8080/",
          "height": 206
        },
        "id": "2TQBTc4_ScyV",
        "outputId": "ba086279-5efc-413d-e588-379fb989529c"
      },
      "outputs": [
        {
          "output_type": "execute_result",
          "data": {
            "text/plain": [
              "          image label\n",
              "0  ISIC_0024306    NV\n",
              "1  ISIC_0024307    NV\n",
              "2  ISIC_0024308    NV\n",
              "3  ISIC_0024309    NV\n",
              "4  ISIC_0024310   MEL"
            ],
            "text/html": [
              "\n",
              "  <div id=\"df-80a56b88-b023-43a1-8cb7-90fa1ad716c4\">\n",
              "    <div class=\"colab-df-container\">\n",
              "      <div>\n",
              "<style scoped>\n",
              "    .dataframe tbody tr th:only-of-type {\n",
              "        vertical-align: middle;\n",
              "    }\n",
              "\n",
              "    .dataframe tbody tr th {\n",
              "        vertical-align: top;\n",
              "    }\n",
              "\n",
              "    .dataframe thead th {\n",
              "        text-align: right;\n",
              "    }\n",
              "</style>\n",
              "<table border=\"1\" class=\"dataframe\">\n",
              "  <thead>\n",
              "    <tr style=\"text-align: right;\">\n",
              "      <th></th>\n",
              "      <th>image</th>\n",
              "      <th>label</th>\n",
              "    </tr>\n",
              "  </thead>\n",
              "  <tbody>\n",
              "    <tr>\n",
              "      <th>0</th>\n",
              "      <td>ISIC_0024306</td>\n",
              "      <td>NV</td>\n",
              "    </tr>\n",
              "    <tr>\n",
              "      <th>1</th>\n",
              "      <td>ISIC_0024307</td>\n",
              "      <td>NV</td>\n",
              "    </tr>\n",
              "    <tr>\n",
              "      <th>2</th>\n",
              "      <td>ISIC_0024308</td>\n",
              "      <td>NV</td>\n",
              "    </tr>\n",
              "    <tr>\n",
              "      <th>3</th>\n",
              "      <td>ISIC_0024309</td>\n",
              "      <td>NV</td>\n",
              "    </tr>\n",
              "    <tr>\n",
              "      <th>4</th>\n",
              "      <td>ISIC_0024310</td>\n",
              "      <td>MEL</td>\n",
              "    </tr>\n",
              "  </tbody>\n",
              "</table>\n",
              "</div>\n",
              "      <button class=\"colab-df-convert\" onclick=\"convertToInteractive('df-80a56b88-b023-43a1-8cb7-90fa1ad716c4')\"\n",
              "              title=\"Convert this dataframe to an interactive table.\"\n",
              "              style=\"display:none;\">\n",
              "        \n",
              "  <svg xmlns=\"http://www.w3.org/2000/svg\" height=\"24px\"viewBox=\"0 0 24 24\"\n",
              "       width=\"24px\">\n",
              "    <path d=\"M0 0h24v24H0V0z\" fill=\"none\"/>\n",
              "    <path d=\"M18.56 5.44l.94 2.06.94-2.06 2.06-.94-2.06-.94-.94-2.06-.94 2.06-2.06.94zm-11 1L8.5 8.5l.94-2.06 2.06-.94-2.06-.94L8.5 2.5l-.94 2.06-2.06.94zm10 10l.94 2.06.94-2.06 2.06-.94-2.06-.94-.94-2.06-.94 2.06-2.06.94z\"/><path d=\"M17.41 7.96l-1.37-1.37c-.4-.4-.92-.59-1.43-.59-.52 0-1.04.2-1.43.59L10.3 9.45l-7.72 7.72c-.78.78-.78 2.05 0 2.83L4 21.41c.39.39.9.59 1.41.59.51 0 1.02-.2 1.41-.59l7.78-7.78 2.81-2.81c.8-.78.8-2.07 0-2.86zM5.41 20L4 18.59l7.72-7.72 1.47 1.35L5.41 20z\"/>\n",
              "  </svg>\n",
              "      </button>\n",
              "      \n",
              "  <style>\n",
              "    .colab-df-container {\n",
              "      display:flex;\n",
              "      flex-wrap:wrap;\n",
              "      gap: 12px;\n",
              "    }\n",
              "\n",
              "    .colab-df-convert {\n",
              "      background-color: #E8F0FE;\n",
              "      border: none;\n",
              "      border-radius: 50%;\n",
              "      cursor: pointer;\n",
              "      display: none;\n",
              "      fill: #1967D2;\n",
              "      height: 32px;\n",
              "      padding: 0 0 0 0;\n",
              "      width: 32px;\n",
              "    }\n",
              "\n",
              "    .colab-df-convert:hover {\n",
              "      background-color: #E2EBFA;\n",
              "      box-shadow: 0px 1px 2px rgba(60, 64, 67, 0.3), 0px 1px 3px 1px rgba(60, 64, 67, 0.15);\n",
              "      fill: #174EA6;\n",
              "    }\n",
              "\n",
              "    [theme=dark] .colab-df-convert {\n",
              "      background-color: #3B4455;\n",
              "      fill: #D2E3FC;\n",
              "    }\n",
              "\n",
              "    [theme=dark] .colab-df-convert:hover {\n",
              "      background-color: #434B5C;\n",
              "      box-shadow: 0px 1px 3px 1px rgba(0, 0, 0, 0.15);\n",
              "      filter: drop-shadow(0px 1px 2px rgba(0, 0, 0, 0.3));\n",
              "      fill: #FFFFFF;\n",
              "    }\n",
              "  </style>\n",
              "\n",
              "      <script>\n",
              "        const buttonEl =\n",
              "          document.querySelector('#df-80a56b88-b023-43a1-8cb7-90fa1ad716c4 button.colab-df-convert');\n",
              "        buttonEl.style.display =\n",
              "          google.colab.kernel.accessAllowed ? 'block' : 'none';\n",
              "\n",
              "        async function convertToInteractive(key) {\n",
              "          const element = document.querySelector('#df-80a56b88-b023-43a1-8cb7-90fa1ad716c4');\n",
              "          const dataTable =\n",
              "            await google.colab.kernel.invokeFunction('convertToInteractive',\n",
              "                                                     [key], {});\n",
              "          if (!dataTable) return;\n",
              "\n",
              "          const docLinkHtml = 'Like what you see? Visit the ' +\n",
              "            '<a target=\"_blank\" href=https://colab.research.google.com/notebooks/data_table.ipynb>data table notebook</a>'\n",
              "            + ' to learn more about interactive tables.';\n",
              "          element.innerHTML = '';\n",
              "          dataTable['output_type'] = 'display_data';\n",
              "          await google.colab.output.renderOutput(dataTable, element);\n",
              "          const docLink = document.createElement('div');\n",
              "          docLink.innerHTML = docLinkHtml;\n",
              "          element.appendChild(docLink);\n",
              "        }\n",
              "      </script>\n",
              "    </div>\n",
              "  </div>\n",
              "  "
            ]
          },
          "metadata": {},
          "execution_count": 6
        }
      ],
      "source": [
        "\n",
        "labels=['MEL', 'NV', 'BCC', 'AKIEC', 'BKL', 'DF', 'VASC']\n",
        "label_list=[]\n",
        "\n",
        "detailedDataset = originalDataset.copy()\n",
        "\n",
        "for i in range (len(originalDataset)):\n",
        "    row = list(originalDataset.iloc[i])\n",
        "    del row[0]\n",
        "    index = np.argmax(row)\n",
        "    label = labels[index]\n",
        "    label_list.append(label)\n",
        "    \n",
        "detailedDataset['label'] = label_list\n",
        "detailedDataset = detailedDataset.drop(labels, axis=1)\n",
        "detailedDataset.head()"
      ]
    },
    {
      "cell_type": "markdown",
      "metadata": {
        "id": "I1lUrYRPoyi7"
      },
      "source": [
        "# Amostragem dos dados do dataset com as 7 classes de lesões"
      ]
    },
    {
      "cell_type": "code",
      "execution_count": null,
      "metadata": {
        "colab": {
          "base_uri": "https://localhost:8080/"
        },
        "id": "9TqerpgCS7sC",
        "outputId": "94cb49da-fdb5-4a25-9c5d-794ab59ec140"
      },
      "outputs": [
        {
          "output_type": "stream",
          "name": "stdout",
          "text": [
            "NV       6705\n",
            "MEL      1113\n",
            "BKL      1099\n",
            "BCC       514\n",
            "AKIEC     327\n",
            "VASC      142\n",
            "DF        115\n",
            "Name: label, dtype: int64\n"
          ]
        },
        {
          "output_type": "display_data",
          "data": {
            "text/plain": [
              "<Figure size 432x288 with 1 Axes>"
            ],
            "image/png": "[encoded data removed]"
          },
          "metadata": {
            "needs_background": "light"
          }
        }
      ],
      "source": [
        "detailedDataset['label'].value_counts().plot.bar(color=['r','g','b','c','y','m','k'])\n",
        "print(detailedDataset['label'].value_counts())"
      ]
    },
    {
      "cell_type": "markdown",
      "metadata": {
        "id": "CXuRp00uo-fm"
      },
      "source": [
        "# Divisão do dataset em meta-classes: benignos e malignos\n",
        "\n",
        "Estratégia inicial para verificar o resultado do modelo com balancea,emto por subamostragem (downsampling) entre as duas meta-classes\n"
      ]
    },
    {
      "cell_type": "code",
      "execution_count": null,
      "metadata": {
        "colab": {
          "base_uri": "https://localhost:8080/"
        },
        "id": "QKNCHI7ATGRG",
        "outputId": "b9baffbb-7af7-44f4-9a8a-2730fbb590b3"
      },
      "outputs": [
        {
          "output_type": "execute_result",
          "data": {
            "text/plain": [
              "          image     type\n",
              "0  ISIC_0024306  Benigno\n",
              "1  ISIC_0024307  Benigno\n",
              "2  ISIC_0024308  Benigno\n",
              "3  ISIC_0024309  Benigno\n",
              "4  ISIC_0024310  Maligno"
            ],
            "text/html": [
              "\n",
              "  <div id=\"df-bc8fa743-63a0-4d61-ae85-402ec7310bf1\">\n",
              "    <div class=\"colab-df-container\">\n",
              "      <div>\n",
              "<style scoped>\n",
              "    .dataframe tbody tr th:only-of-type {\n",
              "        vertical-align: middle;\n",
              "    }\n",
              "\n",
              "    .dataframe tbody tr th {\n",
              "        vertical-align: top;\n",
              "    }\n",
              "\n",
              "    .dataframe thead th {\n",
              "        text-align: right;\n",
              "    }\n",
              "</style>\n",
              "<table border=\"1\" class=\"dataframe\">\n",
              "  <thead>\n",
              "    <tr style=\"text-align: right;\">\n",
              "      <th></th>\n",
              "      <th>image</th>\n",
              "      <th>type</th>\n",
              "    </tr>\n",
              "  </thead>\n",
              "  <tbody>\n",
              "    <tr>\n",
              "      <th>0</th>\n",
              "      <td>ISIC_0024306</td>\n",
              "      <td>Benigno</td>\n",
              "    </tr>\n",
              "    <tr>\n",
              "      <th>1</th>\n",
              "      <td>ISIC_0024307</td>\n",
              "      <td>Benigno</td>\n",
              "    </tr>\n",
              "    <tr>\n",
              "      <th>2</th>\n",
              "      <td>ISIC_0024308</td>\n",
              "      <td>Benigno</td>\n",
              "    </tr>\n",
              "    <tr>\n",
              "      <th>3</th>\n",
              "      <td>ISIC_0024309</td>\n",
              "      <td>Benigno</td>\n",
              "    </tr>\n",
              "    <tr>\n",
              "      <th>4</th>\n",
              "      <td>ISIC_0024310</td>\n",
              "      <td>Maligno</td>\n",
              "    </tr>\n",
              "  </tbody>\n",
              "</table>\n",
              "</div>\n",
              "      <button class=\"colab-df-convert\" onclick=\"convertToInteractive('df-bc8fa743-63a0-4d61-ae85-402ec7310bf1')\"\n",
              "              title=\"Convert this dataframe to an interactive table.\"\n",
              "              style=\"display:none;\">\n",
              "        \n",
              "  <svg xmlns=\"http://www.w3.org/2000/svg\" height=\"24px\"viewBox=\"0 0 24 24\"\n",
              "       width=\"24px\">\n",
              "    <path d=\"M0 0h24v24H0V0z\" fill=\"none\"/>\n",
              "    <path d=\"M18.56 5.44l.94 2.06.94-2.06 2.06-.94-2.06-.94-.94-2.06-.94 2.06-2.06.94zm-11 1L8.5 8.5l.94-2.06 2.06-.94-2.06-.94L8.5 2.5l-.94 2.06-2.06.94zm10 10l.94 2.06.94-2.06 2.06-.94-2.06-.94-.94-2.06-.94 2.06-2.06.94z\"/><path d=\"M17.41 7.96l-1.37-1.37c-.4-.4-.92-.59-1.43-.59-.52 0-1.04.2-1.43.59L10.3 9.45l-7.72 7.72c-.78.78-.78 2.05 0 2.83L4 21.41c.39.39.9.59 1.41.59.51 0 1.02-.2 1.41-.59l7.78-7.78 2.81-2.81c.8-.78.8-2.07 0-2.86zM5.41 20L4 18.59l7.72-7.72 1.47 1.35L5.41 20z\"/>\n",
              "  </svg>\n",
              "      </button>\n",
              "      \n",
              "  <style>\n",
              "    .colab-df-container {\n",
              "      display:flex;\n",
              "      flex-wrap:wrap;\n",
              "      gap: 12px;\n",
              "    }\n",
              "\n",
              "    .colab-df-convert {\n",
              "      background-color: #E8F0FE;\n",
              "      border: none;\n",
              "      border-radius: 50%;\n",
              "      cursor: pointer;\n",
              "      display: none;\n",
              "      fill: #1967D2;\n",
              "      height: 32px;\n",
              "      padding: 0 0 0 0;\n",
              "      width: 32px;\n",
              "    }\n",
              "\n",
              "    .colab-df-convert:hover {\n",
              "      background-color: #E2EBFA;\n",
              "      box-shadow: 0px 1px 2px rgba(60, 64, 67, 0.3), 0px 1px 3px 1px rgba(60, 64, 67, 0.15);\n",
              "      fill: #174EA6;\n",
              "    }\n",
              "\n",
              "    [theme=dark] .colab-df-convert {\n",
              "      background-color: #3B4455;\n",
              "      fill: #D2E3FC;\n",
              "    }\n",
              "\n",
              "    [theme=dark] .colab-df-convert:hover {\n",
              "      background-color: #434B5C;\n",
              "      box-shadow: 0px 1px 3px 1px rgba(0, 0, 0, 0.15);\n",
              "      filter: drop-shadow(0px 1px 2px rgba(0, 0, 0, 0.3));\n",
              "      fill: #FFFFFF;\n",
              "    }\n",
              "  </style>\n",
              "\n",
              "      <script>\n",
              "        const buttonEl =\n",
              "          document.querySelector('#df-bc8fa743-63a0-4d61-ae85-402ec7310bf1 button.colab-df-convert');\n",
              "        buttonEl.style.display =\n",
              "          google.colab.kernel.accessAllowed ? 'block' : 'none';\n",
              "\n",
              "        async function convertToInteractive(key) {\n",
              "          const element = document.querySelector('#df-bc8fa743-63a0-4d61-ae85-402ec7310bf1');\n",
              "          const dataTable =\n",
              "            await google.colab.kernel.invokeFunction('convertToInteractive',\n",
              "                                                     [key], {});\n",
              "          if (!dataTable) return;\n",
              "\n",
              "          const docLinkHtml = 'Like what you see? Visit the ' +\n",
              "            '<a target=\"_blank\" href=https://colab.research.google.com/notebooks/data_table.ipynb>data table notebook</a>'\n",
              "            + ' to learn more about interactive tables.';\n",
              "          element.innerHTML = '';\n",
              "          dataTable['output_type'] = 'display_data';\n",
              "          await google.colab.output.renderOutput(dataTable, element);\n",
              "          const docLink = document.createElement('div');\n",
              "          docLink.innerHTML = docLinkHtml;\n",
              "          element.appendChild(docLink);\n",
              "        }\n",
              "      </script>\n",
              "    </div>\n",
              "  </div>\n",
              "  "
            ]
          },
          "metadata": {},
          "execution_count": 8
        }
      ],
      "source": [
        "benignLesions = ['NV', 'BKL', 'DF', 'VASC']\n",
        "malignLesions = ['MEL', 'BCC', 'AKIEC']\n",
        "benignCode = 'Benigno'\n",
        "malignCode = 'Maligno'\n",
        "\n",
        "simplifiedDataset = detailedDataset.copy()\n",
        "\n",
        "def classifyLesions(row):\n",
        "  if row['label'] in benignLesions:\n",
        "    return benignCode\n",
        "  return malignCode\n",
        "\n",
        "simplifiedDataset['type'] = simplifiedDataset.apply (lambda row: classifyLesions(row), axis=1)\n",
        "simplifiedDataset = simplifiedDataset.drop('label', axis=1)\n",
        "simplifiedDataset.head()"
      ]
    },
    {
      "cell_type": "markdown",
      "metadata": {
        "id": "JKzxBUAfy5SA"
      },
      "source": [
        "# Aplicação de LabelEncoder(type)\n",
        "\n",
        "Etapa executada antes da divisão de conjuntos para evitar custo computacional ao ter que verificar se os dois conjuntos estão se refereindo a meta classe da mesma forma.\n",
        "\n",
        "Transformação de:\n",
        "> Benigno->0\n",
        "\n",
        "> Maligno-> 1\n",
        "\n",
        "https://scikit-learn.org/stable/modules/generated/sklearn.preprocessing.LabelEncoder.html"
      ]
    },
    {
      "cell_type": "code",
      "execution_count": null,
      "metadata": {
        "colab": {
          "base_uri": "https://localhost:8080/"
        },
        "id": "rKTSF24Hkypx",
        "outputId": "eeb2500f-907e-4fa9-f113-0a22fa0613d1"
      },
      "outputs": [
        {
          "output_type": "stream",
          "name": "stdout",
          "text": [
            "              image     type\n",
            "0      ISIC_0024306  Benigno\n",
            "1      ISIC_0024307  Benigno\n",
            "2      ISIC_0024308  Benigno\n",
            "3      ISIC_0024309  Benigno\n",
            "4      ISIC_0024310  Maligno\n",
            "...             ...      ...\n",
            "10010  ISIC_0034316  Maligno\n",
            "10011  ISIC_0034317  Maligno\n",
            "10012  ISIC_0034318  Benigno\n",
            "10013  ISIC_0034319  Benigno\n",
            "10014  ISIC_0034320  Benigno\n",
            "\n",
            "[10015 rows x 2 columns]\n"
          ]
        }
      ],
      "source": [
        "df = simplifiedDataset;\n",
        "print(df)"
      ]
    },
    {
      "cell_type": "code",
      "source": [
        "le = preprocessing.LabelEncoder()\n",
        "df['type'] = le.fit_transform(df['type'])\n",
        "df['type'].head()"
      ],
      "metadata": {
        "colab": {
          "base_uri": "https://localhost:8080/"
        },
        "id": "r6Wtl6KmMQfr",
        "outputId": "5ac66616-01cf-49d6-8976-4cecf8992c89"
      },
      "execution_count": null,
      "outputs": [
        {
          "output_type": "execute_result",
          "data": {
            "text/plain": [
              "0    0\n",
              "1    0\n",
              "2    0\n",
              "3    0\n",
              "4    1\n",
              "Name: type, dtype: int64"
            ]
          },
          "metadata": {},
          "execution_count": 10
        }
      ]
    },
    {
      "cell_type": "markdown",
      "metadata": {
        "id": "-40j3ha3GdG7"
      },
      "source": [
        "# Obter as imagens do dataset"
      ]
    },
    {
      "cell_type": "code",
      "execution_count": null,
      "metadata": {
        "colab": {
          "base_uri": "https://localhost:8080/"
        },
        "id": "Mt4fPuvZ5KUW",
        "outputId": "4a08fd5c-c547-4385-8d6f-c323486ec318"
      },
      "outputs": [
        {
          "output_type": "stream",
          "name": "stdout",
          "text": [
            "root/images/reshape-150_200/ISIC_0031741.jpg\n"
          ]
        }
      ],
      "source": [
        "PATH_PROCESSED_CONST = 'root/images/reshape-150_200/'\n",
        "\n",
        "all_files = glob.glob(os.path.join(PATH_PROCESSED_CONST, \"*.jpg\"))\n",
        "print(all_files[1])"
      ]
    },
    {
      "cell_type": "markdown",
      "metadata": {
        "id": "g2_M-3YZaA4g"
      },
      "source": [
        "Aplicar greyscale e reshape nas imagens"
      ]
    },
    {
      "cell_type": "code",
      "execution_count": null,
      "metadata": {
        "id": "ex_0oNR6bYLm"
      },
      "outputs": [],
      "source": [
        "X = []\n",
        "y = []\n",
        "for img_name, img_type in zip(df['image'], df['type']):\n",
        "  img = cv2.imread(PATH_PROCESSED_CONST + str(img_name)+'.jpg')\n",
        "  img = np.asarray(img).astype(np.float32)#('float32')\n",
        "  if not (np.isnan(img).any()):\n",
        "    #img = tf.convert_to_tensor(img, dtype=tf.float32)\n",
        "    X.append(img)\n",
        "    y.append(img_type)"
      ]
    },
    {
      "cell_type": "code",
      "source": [
        "# visualização grau de desbalanceamento\n",
        "pd.DataFrame(y).value_counts().plot.bar(color=['g','r'])\n",
        "print(pd.DataFrame(y).value_counts())"
      ],
      "metadata": {
        "colab": {
          "base_uri": "https://localhost:8080/",
          "height": 339
        },
        "id": "0jdhKhz-XpRK",
        "outputId": "c148a752-dfc5-46b6-ad2d-3b570fb75090"
      },
      "execution_count": null,
      "outputs": [
        {
          "output_type": "stream",
          "name": "stdout",
          "text": [
            "0    3804\n",
            "1    1942\n",
            "dtype: int64\n"
          ]
        },
        {
          "output_type": "display_data",
          "data": {
            "text/plain": [
              "<Figure size 432x288 with 1 Axes>"
            ],
            "image/png": "[encoded data removed]"
          },
          "metadata": {
            "needs_background": "light"
          }
        }
      ]
    },
    {
      "cell_type": "markdown",
      "metadata": {
        "id": "f-aJnx-SmC0N"
      },
      "source": [
        "dataset is highly out of balance limit maximum samples per class to 1942 (balanceamento por baixo) samples to help balance it"
      ]
    },
    {
      "cell_type": "markdown",
      "metadata": {
        "id": "Ez84bWRd205x"
      },
      "source": [
        "# Balanceamento\n",
        "\n",
        "A importância do balanceamento está na etapa de treinamento, entretando ele é realizado com a base inteira antes do treino e teste para não enviesar conjuntos de dados.\n",
        "\n",
        "Ao optar por fazer o resample antes do split, faz com que o conjunto seja mais próximo de uma base de dados balanceada normal já que foi optado pelo downsampling. \n",
        "\n",
        "Foi escolhido fazer o resample de todo o conjunto de dados antes do split para evitar ter que averiguar se a distribuição do conjunto de treinamento se manteve a mesma do dataset para não enviesar o modelo com a reamostragem erroneamente.\n",
        "\n",
        "Dado que o balanceamento será realizado antes do split, os dados de teste \n",
        "\n",
        "Importante deixar cada classe com a quantidade de imagens mais parecida possível.\n",
        "\n",
        "Nessa abordagem inicial mais simples, queremos somente dividir o data set em duas classes e deixar a mesma quantidade de imagens para cada classe.\n"
      ]
    },
    {
      "cell_type": "code",
      "source": [
        "img_shape = X[0].shape\n",
        "img_shape "
      ],
      "metadata": {
        "colab": {
          "base_uri": "https://localhost:8080/"
        },
        "id": "C9SEkru4UNK4",
        "outputId": "6964fa38-b1ab-49b0-d28a-e0687b511285"
      },
      "execution_count": null,
      "outputs": [
        {
          "output_type": "execute_result",
          "data": {
            "text/plain": [
              "(150, 200, 3)"
            ]
          },
          "metadata": {},
          "execution_count": 14
        }
      ]
    },
    {
      "cell_type": "code",
      "source": [
        "full_dataset = pd.DataFrame( {'X': X,'y': y})\n",
        "\n",
        "size= 1942 # set number of samples for each class\n",
        "samples = []\n",
        "\n",
        "group= full_dataset.groupby('y')\n",
        "for label in full_dataset['y'].unique():\n",
        "    Lgroup=group.get_group(label)\n",
        "    count=int(Lgroup['y'].value_counts())    \n",
        "    if count>=size:\n",
        "        sample=Lgroup.sample(size, axis=0)        \n",
        "    else:        \n",
        "        sample=Lgroup.sample(frac=1, axis=0)\n",
        "    samples.append(sample) \n",
        "\n",
        "balanced_df = pd.concat(samples, axis=0).reset_index(drop=True)\n",
        "\n",
        "print(len(balanced_df))\n",
        "print('final number of classes: ', len(balanced_df['y'].unique()))       \n",
        "print(balanced_df['y'].value_counts())  "
      ],
      "metadata": {
        "colab": {
          "base_uri": "https://localhost:8080/"
        },
        "id": "Z5vZcXOPYeBQ",
        "outputId": "223c6f1f-50cd-4958-86c3-a531799a7fc5"
      },
      "execution_count": null,
      "outputs": [
        {
          "output_type": "stream",
          "name": "stdout",
          "text": [
            "3884\n",
            "final number of classes:  2\n",
            "0    1942\n",
            "1    1942\n",
            "Name: y, dtype: int64\n"
          ]
        }
      ]
    },
    {
      "cell_type": "code",
      "source": [
        "X = np.array(balanced_df['X'])\n",
        "y = np.array(balanced_df['y'])\n",
        "#dataset = tf.data.Dataset.from_tensor_slices((balanced_df['X'],balanced_df['y']))\n",
        "#balanced_df['X'].head()"
      ],
      "metadata": {
        "id": "WXnp0m9HPrMX"
      },
      "execution_count": null,
      "outputs": []
    },
    {
      "cell_type": "code",
      "source": [
        "X[0].shape"
      ],
      "metadata": {
        "id": "mVDrFJSwVtb4",
        "colab": {
          "base_uri": "https://localhost:8080/"
        },
        "outputId": "261b2ca3-0c57-416b-99f5-e0aec53e84bf"
      },
      "execution_count": null,
      "outputs": [
        {
          "output_type": "execute_result",
          "data": {
            "text/plain": [
              "(150, 200, 3)"
            ]
          },
          "metadata": {},
          "execution_count": 17
        }
      ]
    },
    {
      "cell_type": "code",
      "source": [
        "cv2_imshow(X[0])"
      ],
      "metadata": {
        "id": "gaXZW_K9SjVQ",
        "colab": {
          "base_uri": "https://localhost:8080/",
          "height": 167
        },
        "outputId": "9a7f307b-af9c-419a-c291-4c65246a217f"
      },
      "execution_count": null,
      "outputs": [
        {
          "output_type": "display_data",
          "data": {
            "text/plain": [
              "<PIL.Image.Image image mode=RGB size=200x150 at 0x7F05CD18C090>"
            ],
            "image/png": "[encoded data removed]"
          },
          "metadata": {}
        }
      ]
    },
    {
      "cell_type": "code",
      "execution_count": null,
      "metadata": {
        "id": "1aTahZvEiSoT",
        "colab": {
          "base_uri": "https://localhost:8080/",
          "height": 314
        },
        "outputId": "51f42f82-e5b3-4b71-87ad-e4140501c7cc"
      },
      "outputs": [
        {
          "output_type": "stream",
          "name": "stdout",
          "text": [
            "0    1942\n",
            "1    1942\n",
            "Name: y, dtype: int64\n"
          ]
        },
        {
          "output_type": "display_data",
          "data": {
            "text/plain": [
              "<Figure size 432x288 with 1 Axes>"
            ],
            "image/png": "[encoded data removed]"
          },
          "metadata": {
            "needs_background": "light"
          }
        }
      ],
      "source": [
        "balanced_df['y'].value_counts().plot.bar(color=['g','r'])\n",
        "print(balanced_df['y'].value_counts())"
      ]
    },
    {
      "cell_type": "markdown",
      "metadata": {
        "id": "WD8UoEWLDp2p"
      },
      "source": [
        "# Train Test Split\n",
        "\n",
        "Essa divisão do dataset está sendo feita após a etapa de balanceamento para prevenir bias (viéses) no treinamento que venham a resultar em um modelo com tendêncidas não generalizadas.\n",
        "O objetivo do modelo é ser o mais geral possível\n",
        "\n",
        "- Teste será feito com 20% do dataset já balanceado\n",
        "- Treinamento será feito com 80% do dataset já balanceado"
      ]
    },
    {
      "cell_type": "code",
      "execution_count": null,
      "metadata": {
        "id": "HukTVxrUDofY"
      },
      "outputs": [],
      "source": [
        "test_size = .15 # set this to the percent of the data you want to use for validation\n",
        "train_size = .85 # set this to the percentof the data you want to use for training\n",
        "\n",
        "X_train, X_test, y_train, y_test = train_test_split(X, y, test_size = test_size, train_size = train_size, random_state=42, shuffle=True)"
      ]
    },
    {
      "cell_type": "code",
      "source": [
        "cv2_imshow(X_train[0])"
      ],
      "metadata": {
        "id": "dhcPM7nmWegO",
        "colab": {
          "base_uri": "https://localhost:8080/",
          "height": 167
        },
        "outputId": "39b5c1cf-c158-4b91-a029-e18bac863d04"
      },
      "execution_count": null,
      "outputs": [
        {
          "output_type": "display_data",
          "data": {
            "text/plain": [
              "<PIL.Image.Image image mode=RGB size=200x150 at 0x7F05CD089E10>"
            ],
            "image/png": "[encoded data removed]"
          },
          "metadata": {}
        }
      ]
    },
    {
      "cell_type": "markdown",
      "metadata": {
        "id": "Bbpdff7wGjH8"
      },
      "source": [
        "# Criar modelo\n",
        "\n",
        "**goal**: transfer the learning of a ResNet-50 trained with Imagenet to a model that identify images from HAM10000 dataset.\n",
        "\n",
        "- Construir uma rede neural CNN (tipo de modelo deep learning) levando em conta a dimensão das imagens com resize\n",
        "\n",
        "- Utilização de CNN através da rede ResNet-50\n",
        "\n",
        "**Convolutional Neural Network (CNN):** arquitetura de rede\n",
        "- Arquitetura de rede neural com presença de camadas convolucionais, responsáveis por identificar padrões do dado de entrada, funcionando como um extrator de características inteligentes.\n",
        "- Por ser uma arquitetura taxada como pesada, é comum a utilização de TL - utilização de um modelo base que é adaptado para a nova tarefa em questão, congelando os pesos de algumas camadas do modelo, necessitando o treinamento de apenas uma parcela das camadas do modelo final, reduzindo o custo computacional do modelo.\n",
        "\n",
        "**Transfer Learning (TL):** metodologia de aprendizado\n",
        "- Adapta um modelo base previamente treinado como forma de reduzir o processo de treinamento do modelo proposto\n",
        "- use a model that has been trained on large scale data for our problem.\n",
        "- Commonly used Transfer Learning Models: Inception, Xception, VGG Family, ResNet\n",
        "\n",
        "**Deep Residual Networks (ResNet, ResNet50):** modelo específico de CNN\n",
        "- specific type of convolutional neural network (CNN)\n",
        "- is a 50-layer convolutional neural network (48 convolutional layers, one MaxPool layer, and one average pool layer)\n",
        "- Residual neural networks are a type of artificial neural network (ANN) that forms networks by stacking residual blocks.\n",
        "- ResNet has supervised learning\n",
        "\n",
        "https://www.tensorflow.org/tutorials/images/cnn\n",
        "\n",
        "https://analyticsindiamag.com/a-comparison-of-4-popular-transfer-learning-models/\n",
        "\n",
        "https://keras.io/api/applications/resnet/\n",
        "\n",
        "Based on article: https://towardsdatascience.com/transfer-learning-for-image-classification-using-tensorflow-71c359b56673\n"
      ]
    },
    {
      "cell_type": "code",
      "source": [
        "resized_height = 150 # image height\n",
        "resized_width = 200   # image width\n",
        "resized_channels = 3  # number of color channels, RGB"
      ],
      "metadata": {
        "id": "_ZtersWL2qAO"
      },
      "execution_count": null,
      "outputs": []
    },
    {
      "cell_type": "code",
      "source": [
        "# Initialize the Pretrained Model\n",
        "feature_extractor = ResNet50(weights='imagenet', \n",
        "                             input_shape=(resized_height, resized_width, resized_channels),\n",
        "                             include_top=False)\n",
        "\n",
        "# Set this parameter to make sure it's not being trained\n",
        "feature_extractor.trainable = False\n",
        "\n",
        "# Set the input layer\n",
        "input_ = tf.keras.Input(shape=(resized_height, resized_width, resized_channels))\n",
        "\n",
        "# Set the feature extractor layer\n",
        "x = feature_extractor(input_, training=False)\n",
        "\n",
        "# Set the pooling layer\n",
        "x = tf.keras.layers.GlobalAveragePooling2D()(x)\n",
        "\n",
        "# Set Flatten Layer\n",
        "x= tf.keras.layers.Flatten()(x)\n",
        "\n",
        "# Set Dense Layers\n",
        "x = tf.keras.layers.Dense(32, activation='relu',\n",
        "                           kernel_initializer=\"he_normal\",\n",
        "                           kernel_regularizer=keras.regularizers.l2(0.001),\n",
        "                          name='dense')(x)\n",
        "x = tf.keras.layers.Dropout(0.5)(x)\n",
        "\n",
        "# Set the final layer with sigmoid activation function\n",
        "output_ = tf.keras.layers.Dense(1, activation='sigmoid')(x)\n",
        "\n",
        "# Create the new model object\n",
        "model = tf.keras.Model(input_, output_)\n",
        "\n",
        "# Compile it\n",
        "model.compile(optimizer='adam',\n",
        "             loss=tf.keras.losses.BinaryCrossentropy(from_logits=False),\n",
        "             metrics=['accuracy'])\n",
        "\n",
        "# Print The Summary of The Model\n",
        "model.summary()\n"
      ],
      "metadata": {
        "id": "D-ZaIS9a1knY",
        "colab": {
          "base_uri": "https://localhost:8080/"
        },
        "outputId": "a96f4f23-541e-4c58-ab10-56ccdb0ad1fc"
      },
      "execution_count": null,
      "outputs": [
        {
          "output_type": "stream",
          "name": "stdout",
          "text": [
            "Model: \"model_9\"\n",
            "_________________________________________________________________\n",
            " Layer (type)                Output Shape              Param #   \n",
            "=================================================================\n",
            " input_12 (InputLayer)       [(None, 150, 200, 3)]     0         \n",
            "                                                                 \n",
            " resnet50 (Functional)       (None, 5, 7, 2048)        23587712  \n",
            "                                                                 \n",
            " global_average_pooling2d_5   (None, 2048)             0         \n",
            " (GlobalAveragePooling2D)                                        \n",
            "                                                                 \n",
            " flatten_5 (Flatten)         (None, 2048)              0         \n",
            "                                                                 \n",
            " dense (Dense)               (None, 32)                65568     \n",
            "                                                                 \n",
            " dropout_13 (Dropout)        (None, 32)                0         \n",
            "                                                                 \n",
            " dense_19 (Dense)            (None, 1)                 33        \n",
            "                                                                 \n",
            "=================================================================\n",
            "Total params: 23,653,313\n",
            "Trainable params: 65,601\n",
            "Non-trainable params: 23,587,712\n",
            "_________________________________________________________________\n"
          ]
        }
      ]
    },
    {
      "cell_type": "code",
      "source": [
        "X_train = np.asarray(X_train)\n",
        "y_train = np.asarray(y_train)\n",
        "\n",
        "X_test = np.asarray(X_test)\n",
        "y_test = np.asarray(y_test)\n",
        "\n",
        "X_train = np.array([np.array(val) for val in X_train])\n",
        "X_test = np.array([np.array(val) for val in X_test])"
      ],
      "metadata": {
        "id": "rjzFR7QgUNVW"
      },
      "execution_count": null,
      "outputs": []
    },
    {
      "cell_type": "code",
      "source": [
        "history = model.fit(X_train, y_train, epochs=20, validation_split=0.10) #75% dados de treinamento, 10% de validação 15% de teste"
      ],
      "metadata": {
        "id": "cGXJ9Nq231lD",
        "colab": {
          "base_uri": "https://localhost:8080/"
        },
        "outputId": "6b438126-4327-4c08-8a3f-41b40eba817f"
      },
      "execution_count": null,
      "outputs": [
        {
          "output_type": "stream",
          "name": "stdout",
          "text": [
            "Epoch 1/20\n",
            "93/93 [==============================] - 13s 101ms/step - loss: 0.6485 - accuracy: 0.6993 - val_loss: 0.5593 - val_accuracy: 0.7734\n",
            "Epoch 2/20\n",
            "93/93 [==============================] - 7s 77ms/step - loss: 0.5598 - accuracy: 0.7485 - val_loss: 0.5089 - val_accuracy: 0.7704\n",
            "Epoch 3/20\n",
            "93/93 [==============================] - 8s 83ms/step - loss: 0.5208 - accuracy: 0.7751 - val_loss: 0.5063 - val_accuracy: 0.7674\n",
            "Epoch 4/20\n",
            "93/93 [==============================] - 7s 76ms/step - loss: 0.5001 - accuracy: 0.7825 - val_loss: 0.4997 - val_accuracy: 0.7704\n",
            "Epoch 5/20\n",
            "93/93 [==============================] - 7s 77ms/step - loss: 0.4993 - accuracy: 0.7845 - val_loss: 0.4857 - val_accuracy: 0.8066\n",
            "Epoch 6/20\n",
            "93/93 [==============================] - 7s 77ms/step - loss: 0.4708 - accuracy: 0.7980 - val_loss: 0.4670 - val_accuracy: 0.8187\n",
            "Epoch 7/20\n",
            "93/93 [==============================] - 8s 86ms/step - loss: 0.4657 - accuracy: 0.8077 - val_loss: 0.4626 - val_accuracy: 0.7946\n",
            "Epoch 8/20\n",
            "93/93 [==============================] - 8s 84ms/step - loss: 0.4605 - accuracy: 0.8020 - val_loss: 0.4703 - val_accuracy: 0.7946\n",
            "Epoch 9/20\n",
            "93/93 [==============================] - 7s 78ms/step - loss: 0.4564 - accuracy: 0.8047 - val_loss: 0.4587 - val_accuracy: 0.8157\n",
            "Epoch 10/20\n",
            "93/93 [==============================] - 8s 84ms/step - loss: 0.4476 - accuracy: 0.8084 - val_loss: 0.4471 - val_accuracy: 0.8157\n",
            "Epoch 11/20\n",
            "93/93 [==============================] - 7s 79ms/step - loss: 0.4362 - accuracy: 0.8175 - val_loss: 0.4532 - val_accuracy: 0.7946\n",
            "Epoch 12/20\n",
            "93/93 [==============================] - 7s 78ms/step - loss: 0.4328 - accuracy: 0.8276 - val_loss: 0.4599 - val_accuracy: 0.7885\n",
            "Epoch 13/20\n",
            "93/93 [==============================] - 7s 79ms/step - loss: 0.4303 - accuracy: 0.8155 - val_loss: 0.4493 - val_accuracy: 0.8097\n",
            "Epoch 14/20\n",
            "93/93 [==============================] - 7s 79ms/step - loss: 0.4185 - accuracy: 0.8172 - val_loss: 0.4533 - val_accuracy: 0.7855\n",
            "Epoch 15/20\n",
            "93/93 [==============================] - 7s 79ms/step - loss: 0.4263 - accuracy: 0.8121 - val_loss: 0.4537 - val_accuracy: 0.8066\n",
            "Epoch 16/20\n",
            "93/93 [==============================] - 8s 85ms/step - loss: 0.4145 - accuracy: 0.8246 - val_loss: 0.4563 - val_accuracy: 0.7976\n",
            "Epoch 17/20\n",
            "93/93 [==============================] - 8s 85ms/step - loss: 0.4122 - accuracy: 0.8266 - val_loss: 0.4566 - val_accuracy: 0.8066\n",
            "Epoch 18/20\n",
            "93/93 [==============================] - 8s 85ms/step - loss: 0.4096 - accuracy: 0.8259 - val_loss: 0.4833 - val_accuracy: 0.8187\n",
            "Epoch 19/20\n",
            "93/93 [==============================] - 8s 85ms/step - loss: 0.4020 - accuracy: 0.8259 - val_loss: 0.4771 - val_accuracy: 0.7795\n",
            "Epoch 20/20\n",
            "93/93 [==============================] - 7s 79ms/step - loss: 0.3951 - accuracy: 0.8350 - val_loss: 0.4628 - val_accuracy: 0.7976\n"
          ]
        }
      ]
    },
    {
      "cell_type": "code",
      "source": [
        "test_loss, test_acc = model.evaluate(X_test, y_test, verbose=2)\n",
        "print(test_acc)"
      ],
      "metadata": {
        "id": "jZ5WpPigpwOH",
        "colab": {
          "base_uri": "https://localhost:8080/"
        },
        "outputId": "b657521f-c3c4-46c0-adda-999dfc79142e"
      },
      "execution_count": null,
      "outputs": [
        {
          "output_type": "stream",
          "name": "stdout",
          "text": [
            "19/19 - 1s - loss: 0.5627 - accuracy: 0.7530 - 1s/epoch - 67ms/step\n",
            "0.7530016899108887\n"
          ]
        }
      ]
    },
    {
      "cell_type": "code",
      "source": [
        "plt.plot(history.history['accuracy'], label='accuracy')\n",
        "plt.plot(history.history['val_accuracy'], label = 'val_accuracy')\n",
        "plt.xlabel('Epoch')\n",
        "plt.ylabel('Accuracy')\n",
        "plt.ylim([0.5, 1])\n",
        "plt.legend(loc='lower right')"
      ],
      "metadata": {
        "id": "ZOJhDYdtT1p5",
        "colab": {
          "base_uri": "https://localhost:8080/",
          "height": 300
        },
        "outputId": "42cd624c-968f-4dc5-e348-45f32989a809"
      },
      "execution_count": null,
      "outputs": [
        {
          "output_type": "execute_result",
          "data": {
            "text/plain": [
              "<matplotlib.legend.Legend at 0x7f054e2d4c10>"
            ]
          },
          "metadata": {},
          "execution_count": 123
        },
        {
          "output_type": "display_data",
          "data": {
            "text/plain": [
              "<Figure size 432x288 with 1 Axes>"
            ],
            "image/png": "[encoded data removed]"
          },
          "metadata": {
            "needs_background": "light"
          }
        }
      ]
    },
    {
      "cell_type": "code",
      "source": [
        "y_pred = model.predict(X_test)\n",
        "y_p = np.where(y_pred > 0.5, 1, 0)\n",
        "y_true = y_test\n",
        "cm = confusion_matrix(y_true, y_p)\n",
        "ax = sns.heatmap(cm, annot=True, fmt='', cmap='Blues')          \n",
        "\n",
        "plt.xlabel('Predito')\n",
        "plt.ylabel('Valor Real')\n",
        "plt.title('Matriz de Confusão - Rede Neural')\n",
        "ax.set_xticklabels('BM')\n",
        "ax.set_yticklabels('BM')\n",
        "plt.show()"
      ],
      "metadata": {
        "id": "XM3zhW7urVQ6",
        "colab": {
          "base_uri": "https://localhost:8080/",
          "height": 312
        },
        "outputId": "8540191e-733d-4265-f22d-01db6291d3e5"
      },
      "execution_count": null,
      "outputs": [
        {
          "output_type": "stream",
          "name": "stdout",
          "text": [
            "19/19 [==============================] - 2s 63ms/step\n"
          ]
        },
        {
          "output_type": "display_data",
          "data": {
            "text/plain": [
              "<Figure size 432x288 with 2 Axes>"
            ],
            "image/png": "[encoded data removed]"
          },
          "metadata": {
            "needs_background": "light"
          }
        }
      ]
    },
    {
      "cell_type": "code",
      "source": [
        "target_names = ['benigno', 'maligno'] # 0 = benigno, 1 = maligno\n",
        "print(classification_report(y_true, y_p, target_names=target_names))"
      ],
      "metadata": {
        "id": "iuvclFNJrxwE",
        "colab": {
          "base_uri": "https://localhost:8080/"
        },
        "outputId": "807dfd4b-d248-41be-9544-89be884a904c"
      },
      "execution_count": null,
      "outputs": [
        {
          "output_type": "stream",
          "name": "stdout",
          "text": [
            "              precision    recall  f1-score   support\n",
            "\n",
            "     benigno       0.81      0.71      0.76       318\n",
            "     maligno       0.70      0.80      0.75       265\n",
            "\n",
            "    accuracy                           0.75       583\n",
            "   macro avg       0.76      0.76      0.75       583\n",
            "weighted avg       0.76      0.75      0.75       583\n",
            "\n"
          ]
        }
      ]
    },
    {
      "cell_type": "code",
      "source": [
        "feature_vectors_model = Model(model.input, model.get_layer('dense').output)\n",
        "train_features = feature_vectors_model.predict(X_train)\n",
        "test_features = feature_vectors_model.predict(X_test)"
      ],
      "metadata": {
        "colab": {
          "base_uri": "https://localhost:8080/"
        },
        "id": "gs4702G1rCAD",
        "outputId": "2f86770f-1ec7-4eab-949a-a14bde56f5e5"
      },
      "execution_count": null,
      "outputs": [
        {
          "output_type": "stream",
          "name": "stdout",
          "text": [
            "104/104 [==============================] - 7s 60ms/step\n",
            "19/19 [==============================] - 1s 60ms/step\n"
          ]
        }
      ]
    },
    {
      "cell_type": "code",
      "source": [
        "# Decision Forest:\n",
        "import tensorflow_decision_forests as tfdf\n",
        "model_tree = tfdf.keras.RandomForestModel()\n",
        "model_tree.fit(train_features,y_train)\n",
        "\n",
        "yp_t = model_tree.predict(test_features)\n",
        "yp_t = np.where(yp_t > 0.5, 1, 0)\n",
        "\n",
        "y_true = y_test\n",
        "cm = confusion_matrix(y_true, yp_t)\n",
        "ax = sns.heatmap(cm, annot=True, fmt='', cmap='Blues')          \n",
        "\n",
        "plt.xlabel('Predito')\n",
        "plt.ylabel('Valor Real')\n",
        "plt.title('Matriz de Confusão - Arvore de Decisão')\n",
        "ax.set_xticklabels('BM')\n",
        "ax.set_yticklabels('BM')\n",
        "plt.show()\n",
        "\n",
        "print(classification_report(y_test, yp_t, target_names=['b','m']))"
      ],
      "metadata": {
        "colab": {
          "base_uri": "https://localhost:8080/",
          "height": 645
        },
        "id": "d5HeY4a0pR3w",
        "outputId": "2932beda-cc35-4ff9-bb3c-9d74acad61cc"
      },
      "execution_count": null,
      "outputs": [
        {
          "output_type": "stream",
          "name": "stdout",
          "text": [
            "Use /tmp/tmp1jv2qkef as temporary training directory\n",
            "Reading training dataset...\n"
          ]
        },
        {
          "output_type": "stream",
          "name": "stderr",
          "text": [
            "WARNING:tensorflow:6 out of the last 6 calls to <function CoreModel._consumes_training_examples_until_eof at 0x7f054e69f9e0> triggered tf.function retracing. Tracing is expensive and the excessive number of tracings could be due to (1) creating @tf.function repeatedly in a loop, (2) passing tensors with different shapes, (3) passing Python objects instead of tensors. For (1), please define your @tf.function outside of the loop. For (2), @tf.function has reduce_retracing=True option that can avoid unnecessary retracing. For (3), please refer to https://www.tensorflow.org/guide/function#controlling_retracing and https://www.tensorflow.org/api_docs/python/tf/function for  more details.\n"
          ]
        },
        {
          "output_type": "stream",
          "name": "stdout",
          "text": [
            "Training dataset read in 0:00:02.555331. Found 3301 examples.\n",
            "Training model...\n",
            "Model trained in 0:00:02.331391\n",
            "Compiling model...\n",
            "Model compiled.\n"
          ]
        },
        {
          "output_type": "stream",
          "name": "stderr",
          "text": [
            "WARNING:tensorflow:6 out of the last 6 calls to <function InferenceCoreModel.yggdrasil_model_path_tensor at 0x7f04aa3b0320> triggered tf.function retracing. Tracing is expensive and the excessive number of tracings could be due to (1) creating @tf.function repeatedly in a loop, (2) passing tensors with different shapes, (3) passing Python objects instead of tensors. For (1), please define your @tf.function outside of the loop. For (2), @tf.function has reduce_retracing=True option that can avoid unnecessary retracing. For (3), please refer to https://www.tensorflow.org/guide/function#controlling_retracing and https://www.tensorflow.org/api_docs/python/tf/function for  more details.\n"
          ]
        },
        {
          "output_type": "stream",
          "name": "stdout",
          "text": [
            "19/19 [==============================] - 0s 3ms/step\n"
          ]
        },
        {
          "output_type": "display_data",
          "data": {
            "text/plain": [
              "<Figure size 432x288 with 2 Axes>"
            ],
            "image/png": "[encoded data removed]"
          },
          "metadata": {
            "needs_background": "light"
          }
        },
        {
          "output_type": "stream",
          "name": "stdout",
          "text": [
            "              precision    recall  f1-score   support\n",
            "\n",
            "           b       0.78      0.74      0.76       318\n",
            "           m       0.71      0.75      0.73       265\n",
            "\n",
            "    accuracy                           0.75       583\n",
            "   macro avg       0.75      0.75      0.75       583\n",
            "weighted avg       0.75      0.75      0.75       583\n",
            "\n"
          ]
        }
      ]
    },
    {
      "cell_type": "code",
      "source": [
        "#XGBOOST\n",
        "\n",
        "import xgboost as xgb\n",
        "\n",
        "xgb_cl = xgb.XGBClassifier()\n",
        "\n",
        "# Fit\n",
        "xgb_cl.fit(train_features, y_train)\n",
        "\n",
        "# Predict\n",
        "yp_x = xgb_cl.predict(test_features)\n",
        "yp_x = np.where(yp_x > 0.5, 1, 0)\n",
        "\n",
        "y_true = y_test\n",
        "cm = confusion_matrix(y_true, yp_x)\n",
        "ax = sns.heatmap(cm, annot=True, fmt='', cmap='Blues')          \n",
        "\n",
        "plt.xlabel('Predito')\n",
        "plt.ylabel('Valor Real')\n",
        "plt.title('Matriz de Confusão - XBoost')\n",
        "ax.set_xticklabels('BM')\n",
        "ax.set_yticklabels('BM')\n",
        "plt.show()\n",
        "\n",
        "print(classification_report(y_test, yp_x, target_names=['b','m']))"
      ],
      "metadata": {
        "colab": {
          "base_uri": "https://localhost:8080/",
          "height": 451
        },
        "id": "69_cLXxAyrOu",
        "outputId": "de75efbe-d5cf-4f2f-a7be-674a2e977330"
      },
      "execution_count": null,
      "outputs": [
        {
          "output_type": "display_data",
          "data": {
            "text/plain": [
              "<Figure size 432x288 with 2 Axes>"
            ],
            "image/png": "[encoded data removed]"
          },
          "metadata": {
            "needs_background": "light"
          }
        },
        {
          "output_type": "stream",
          "name": "stdout",
          "text": [
            "              precision    recall  f1-score   support\n",
            "\n",
            "           b       0.79      0.73      0.76       318\n",
            "           m       0.70      0.77      0.74       265\n",
            "\n",
            "    accuracy                           0.75       583\n",
            "   macro avg       0.75      0.75      0.75       583\n",
            "weighted avg       0.75      0.75      0.75       583\n",
            "\n"
          ]
        }
      ]
    },
    {
      "cell_type": "code",
      "source": [
        "from sklearn.ensemble import RandomForestClassifier\n",
        "\n",
        "rf = RandomForestClassifier(max_depth=15, random_state=0)\n",
        "rf.fit(train_features, y_train)\n",
        "\n",
        "yp_rf = rf.predict(test_features)\n",
        "yp_rf = np.where(yp_x > 0.5, 1, 0)\n",
        "\n",
        "y_true = y_test\n",
        "cm = confusion_matrix(y_true, yp_rf)\n",
        "ax = sns.heatmap(cm, annot=True, fmt='', cmap='Blues')          \n",
        "\n",
        "plt.xlabel('Predito')\n",
        "plt.ylabel('Valor Real')\n",
        "plt.title('Matriz de Confusão - Random Forest')\n",
        "ax.set_xticklabels('BM')\n",
        "ax.set_yticklabels('BM')\n",
        "plt.show()\n",
        "\n",
        "print(classification_report(y_test, yp_rf, target_names=['b','m']))"
      ],
      "metadata": {
        "colab": {
          "base_uri": "https://localhost:8080/",
          "height": 451
        },
        "id": "Hzq1M0WW4leH",
        "outputId": "429f8859-1be9-47a2-c6e1-4187e69706b7"
      },
      "execution_count": null,
      "outputs": [
        {
          "output_type": "display_data",
          "data": {
            "text/plain": [
              "<Figure size 432x288 with 2 Axes>"
            ],
            "image/png": "[encoded data removed]"
          },
          "metadata": {
            "needs_background": "light"
          }
        },
        {
          "output_type": "stream",
          "name": "stdout",
          "text": [
            "              precision    recall  f1-score   support\n",
            "\n",
            "           b       0.79      0.73      0.76       318\n",
            "           m       0.70      0.77      0.74       265\n",
            "\n",
            "    accuracy                           0.75       583\n",
            "   macro avg       0.75      0.75      0.75       583\n",
            "weighted avg       0.75      0.75      0.75       583\n",
            "\n"
          ]
        }
      ]
    },
    {
      "cell_type": "code",
      "source": [
        "preds = np.array([np.array(y_p).reshape(583,),\n",
        "                  np.array(yp_t).reshape(583,) , \n",
        "                  np.array(list(yp_x)).reshape(583,),\n",
        "                  np.array(list(yp_rf)).reshape(583,)\n",
        "                  ])\n",
        "\n",
        "m = stats.mode(preds)[0][0]"
      ],
      "metadata": {
        "id": "EO5sZx611Kar"
      },
      "execution_count": null,
      "outputs": []
    },
    {
      "cell_type": "code",
      "source": [
        "# MetaClass\n",
        "\n",
        "from scipy import stats\n",
        "y_m = m\n",
        "#ym_t = np.where(y_m > 0.5, 1, 0)\n",
        "\n",
        "y_true = y_test\n",
        "cm = confusion_matrix(y_true, y_m)\n",
        "ax = sns.heatmap(cm, annot=True, fmt='', cmap='Blues')          \n",
        "\n",
        "plt.xlabel('Predito')\n",
        "plt.ylabel('Valor Real')\n",
        "plt.title('Matriz de Confusão - MetaClass')\n",
        "ax.set_xticklabels('BM')\n",
        "ax.set_yticklabels('BM')\n",
        "plt.show()\n",
        "\n",
        "print(classification_report(y_test, y_m, target_names=['b','m']))"
      ],
      "metadata": {
        "colab": {
          "base_uri": "https://localhost:8080/",
          "height": 451
        },
        "id": "p6IQHBJwvS4I",
        "outputId": "37fd4afa-d371-487c-9862-290be50b0aba"
      },
      "execution_count": null,
      "outputs": [
        {
          "output_type": "display_data",
          "data": {
            "text/plain": [
              "<Figure size 432x288 with 2 Axes>"
            ],
            "image/png": "[encoded data removed]"
          },
          "metadata": {
            "needs_background": "light"
          }
        },
        {
          "output_type": "stream",
          "name": "stdout",
          "text": [
            "              precision    recall  f1-score   support\n",
            "\n",
            "           b       0.78      0.74      0.76       318\n",
            "           m       0.71      0.75      0.73       265\n",
            "\n",
            "    accuracy                           0.75       583\n",
            "   macro avg       0.75      0.75      0.75       583\n",
            "weighted avg       0.75      0.75      0.75       583\n",
            "\n"
          ]
        }
      ]
    },
    {
      "cell_type": "markdown",
      "source": [
        "# Conclusão sobre os resultados:\n",
        "\n"
      ],
      "metadata": {
        "id": "m8_eISAbUmqn"
      }
    }
  ],
  "metadata": {
    "colab": {
      "provenance": [],
      "collapsed_sections": [
        "JfG5sByKn5Qz",
        "I1lUrYRPoyi7"
      ]
    },
    "kernelspec": {
      "display_name": "Python 3",
      "name": "python3"
    },
    "language_info": {
      "name": "python"
    },
    "accelerator": "GPU",
    "gpuClass": "standard"
  },
  "nbformat": 4,
  "nbformat_minor": 0
}